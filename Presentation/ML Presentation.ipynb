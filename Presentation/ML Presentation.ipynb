{
 "cells": [
  {
   "cell_type": "markdown",
   "metadata": {
    "slideshow": {
     "slide_type": "slide"
    }
   },
   "source": [
    "# 🎶 Predicting Lyrics\n",
    "<hr>\n",
    "<br>\n",
    "<b> Group name: <strike>AA</strike> <i>My Machine Learning Romance</i> </b> <br>\n",
    "- Fiorella Tenorio <br>\n",
    "- Katja Wittfoth <br>\n",
    "- Rebecca Reilly <br>\n",
    "- Victoria Suarez <br>\n",
    "- Viviana Márquez <br>"
   ]
  },
  {
   "cell_type": "markdown",
   "metadata": {
    "slideshow": {
     "slide_type": "fragment"
    }
   },
   "source": [
    "<br>\n",
    "<img src='USF.png', style=\"width:200px;\" align=\"left\">\n",
    "Friday, December 7th, 2018. <br>\n",
    "<b> MSDS 621 </b> - Introduction to Machine Learning "
   ]
  },
  {
   "cell_type": "markdown",
   "metadata": {
    "slideshow": {
     "slide_type": "slide"
    }
   },
   "source": [
    "## Goal \n",
    "<center>\n",
    "    <big>🏆<br>\n",
    "    Predict genre based on lyrics</big><br><br>\n",
    "</center> \n",
    "\n",
    "## Agenda\n",
    "- Introduction to our dataset\n",
    "- Supervised learning\n",
    "- Unsupervised learning\n",
    "- <i>Are you smarter than a ML algorithm?</i>"
   ]
  },
  {
   "cell_type": "markdown",
   "metadata": {
    "slideshow": {
     "slide_type": "slide"
    }
   },
   "source": [
    "## Workflow Pipeline\n",
    "<center>\n",
    "    <img src=\"workflow3.png\" style=\"height:500px\">\n",
    "</center> "
   ]
  },
  {
   "cell_type": "code",
   "execution_count": 145,
   "metadata": {
    "ExecuteTime": {
     "end_time": "2018-12-06T22:54:27.725103Z",
     "start_time": "2018-12-06T22:54:27.508405Z"
    },
    "slideshow": {
     "slide_type": "skip"
    }
   },
   "outputs": [],
   "source": [
    "# Libraries\n",
    "import warnings\n",
    "import numpy as np\n",
    "import pandas as pd\n",
    "import sklearn\n",
    "import matplotlib.pyplot as plt\n",
    "import seaborn as sns\n",
    "import string\n",
    "import re\n",
    "\n",
    "from sklearn.model_selection import train_test_split\n",
    "from sklearn.feature_extraction.text import CountVectorizer\n",
    "from sklearn.feature_extraction.text import TfidfTransformer\n",
    "from sklearn.pipeline import Pipeline, FeatureUnion\n",
    "from sklearn.naive_bayes import MultinomialNB\n",
    "from sklearn.metrics import accuracy_score\n",
    "from sklearn.metrics import confusion_matrix\n",
    "from sklearn.feature_extraction import stop_words\n",
    "from sklearn.model_selection import GridSearchCV\n",
    "from sklearn.base import BaseEstimator\n",
    "from sklearn.cluster import KMeans\n",
    "from sklearn.base import BaseEstimator, TransformerMixin\n",
    "from sklearn.ensemble import RandomForestClassifier\n",
    "\n",
    "from vaderSentiment.vaderSentiment import SentimentIntensityAnalyzer\n",
    "\n",
    "import glob\n",
    "import os\n",
    "import pandas as pd\n",
    "import matplotlib.pyplot as plt\n",
    "import seaborn as sns\n",
    "\n",
    "from sklearn.naive_bayes import MultinomialNB\n",
    "from sklearn.linear_model import LogisticRegression\n",
    "from sklearn.svm import LinearSVC\n",
    "\n",
    "from sklearn.feature_extraction.text import TfidfVectorizer\n",
    "from sklearn.feature_extraction.text import CountVectorizer\n",
    "\n",
    "from sklearn.tree import DecisionTreeClassifier\n",
    "from sklearn.tree import ExtraTreeClassifier\n",
    "\n",
    "from sklearn.ensemble import AdaBoostClassifier\n",
    "from sklearn.ensemble import RandomForestClassifier\n",
    "from sklearn.ensemble import VotingClassifier\n",
    "from sklearn.ensemble import GradientBoostingClassifier\n",
    "\n",
    "from sklearn.metrics import accuracy_score, f1_score, recall_score, precision_score, roc_auc_score, roc_curve\n",
    "from sklearn.metrics import confusion_matrix\n",
    "from sklearn.model_selection import cross_val_score\n",
    "\n",
    "\n",
    "import numpy as np\n",
    "from sklearn.pipeline import Pipeline\n",
    "from sklearn.model_selection import learning_curve\n",
    "from sklearn.pipeline import make_pipeline\n",
    "import seaborn as sns\n",
    "sns.set()\n",
    "\n",
    "warnings.filterwarnings('ignore')"
   ]
  },
  {
   "cell_type": "code",
   "execution_count": 146,
   "metadata": {
    "ExecuteTime": {
     "end_time": "2018-12-06T22:15:45.713230Z",
     "start_time": "2018-12-06T22:15:43.102069Z"
    },
    "slideshow": {
     "slide_type": "skip"
    }
   },
   "outputs": [],
   "source": [
    "# Read data\n",
    "df = pd.read_csv('../lyrics.csv')"
   ]
  },
  {
   "cell_type": "code",
   "execution_count": 147,
   "metadata": {
    "ExecuteTime": {
     "end_time": "2018-12-06T22:16:20.913129Z",
     "start_time": "2018-12-06T22:15:50.063612Z"
    },
    "slideshow": {
     "slide_type": "skip"
    }
   },
   "outputs": [],
   "source": [
    "# Clean data\n",
    "def clean_lyrics(text):\n",
    "    text = re.sub('\\n', ' ', text)  # removes new lines\n",
    "    text = re.sub('\\d', '', text)  # removes numbers\n",
    "    text = re.sub('\\t', '', text)  # removes tabs\n",
    "    text = re.sub('[^A-Za-z ]', '', text)  # removes special character\n",
    "    text = re.sub('\\[Verse\\s*\\d*:]', ' ', text)  # remove verse indicators\n",
    "    text = re.sub('\\s+', ' ', text)\n",
    "    words = text.split(\" \")\n",
    "    words = [w for w in words if len(w) > 2]  # removes a, an, to, at, be, ...\n",
    "    return ' '.join(words)\n",
    "\n",
    "\n",
    "df = df[pd.notnull(df['lyrics'])]\n",
    "df = df[df['genre'] != 'Not Available']\n",
    "df = df[df['genre'] != 'Other']\n",
    "df['lyrics_clean'] = df.lyrics.apply(clean_lyrics)\n",
    "\n",
    "df_clean = df[(df.genre == 'Country') | (df.genre == 'Metal') |\n",
    "              (df.genre == 'Hip-Hop') | (df.genre == 'Jazz') | (df.genre == 'Electronic')]\n",
    "\n",
    "df_clean = df_clean.sample(frac=1)  # shuffle"
   ]
  },
  {
   "cell_type": "markdown",
   "metadata": {
    "slideshow": {
     "slide_type": "slide"
    }
   },
   "source": [
    "## 📊 Get data and pre-process\n",
    "\n",
    "- 380,000+ lyrics  from MetroLyrics in <a href=\"https://www.kaggle.com/gyani95/380000-lyrics-from-metrolyrics\">Kaggle</a>\n",
    "\n",
    "#### 🛁 Cleaning \n",
    "- Remove: `Null` lyrics, \"Not available\" genre, punctuation, numbers, symbols, spaces, stop words.\n",
    "- Shuffle data.\n",
    "- **Genres**: Country, Metal, Hip-Hop, Jazz, Electronic."
   ]
  },
  {
   "cell_type": "code",
   "execution_count": 148,
   "metadata": {
    "scrolled": true,
    "slideshow": {
     "slide_type": "fragment"
    }
   },
   "outputs": [
    {
     "data": {
      "text/html": [
       "<div>\n",
       "<style scoped>\n",
       "    .dataframe tbody tr th:only-of-type {\n",
       "        vertical-align: middle;\n",
       "    }\n",
       "\n",
       "    .dataframe tbody tr th {\n",
       "        vertical-align: top;\n",
       "    }\n",
       "\n",
       "    .dataframe thead th {\n",
       "        text-align: right;\n",
       "    }\n",
       "</style>\n",
       "<table border=\"1\" class=\"dataframe\">\n",
       "  <thead>\n",
       "    <tr style=\"text-align: right;\">\n",
       "      <th></th>\n",
       "      <th>index</th>\n",
       "      <th>song</th>\n",
       "      <th>year</th>\n",
       "      <th>artist</th>\n",
       "      <th>genre</th>\n",
       "      <th>lyrics</th>\n",
       "      <th>lyrics_clean</th>\n",
       "    </tr>\n",
       "  </thead>\n",
       "  <tbody>\n",
       "    <tr>\n",
       "      <th>74104</th>\n",
       "      <td>74104</td>\n",
       "      <td>bravehearted</td>\n",
       "      <td>2006</td>\n",
       "      <td>bravehearts</td>\n",
       "      <td>Hip-Hop</td>\n",
       "      <td>[chorus]\\nBrave,Brave,Brave,Brave,Brave, Brave...</td>\n",
       "      <td>chorus BraveBraveBraveBraveBrave BraveHeart te...</td>\n",
       "    </tr>\n",
       "    <tr>\n",
       "      <th>42713</th>\n",
       "      <td>42713</td>\n",
       "      <td>don-t-worry-mary-jblige</td>\n",
       "      <td>2005</td>\n",
       "      <td>game</td>\n",
       "      <td>Hip-Hop</td>\n",
       "      <td>[Mary]\\nCan't wait til we make real love becau...</td>\n",
       "      <td>Mary Cant wait til make real love because thes...</td>\n",
       "    </tr>\n",
       "    <tr>\n",
       "      <th>51504</th>\n",
       "      <td>51504</td>\n",
       "      <td>we-outchea</td>\n",
       "      <td>2013</td>\n",
       "      <td>ace-hood</td>\n",
       "      <td>Hip-Hop</td>\n",
       "      <td>Real life\\nAce Hood, yea\\nWe the motherfuckin'...</td>\n",
       "      <td>Real life Ace Hood yea the motherfuckin best h...</td>\n",
       "    </tr>\n",
       "    <tr>\n",
       "      <th>311982</th>\n",
       "      <td>311982</td>\n",
       "      <td>4-minus-3-equals-zero</td>\n",
       "      <td>2006</td>\n",
       "      <td>george-strait</td>\n",
       "      <td>Country</td>\n",
       "      <td>You always said you loved me\\nAnd I always bel...</td>\n",
       "      <td>You always said you loved And always believed ...</td>\n",
       "    </tr>\n",
       "    <tr>\n",
       "      <th>339670</th>\n",
       "      <td>339670</td>\n",
       "      <td>kain</td>\n",
       "      <td>2007</td>\n",
       "      <td>blind-myself</td>\n",
       "      <td>Metal</td>\n",
       "      <td>Kin, csd vre felkilt hozzm a Fldrl lgy teht tk...</td>\n",
       "      <td>Kin csd vre felkilt hozzm Fldrl lgy teht tkozo...</td>\n",
       "    </tr>\n",
       "  </tbody>\n",
       "</table>\n",
       "</div>"
      ],
      "text/plain": [
       "         index                     song  year         artist    genre  \\\n",
       "74104    74104             bravehearted  2006    bravehearts  Hip-Hop   \n",
       "42713    42713  don-t-worry-mary-jblige  2005           game  Hip-Hop   \n",
       "51504    51504               we-outchea  2013       ace-hood  Hip-Hop   \n",
       "311982  311982    4-minus-3-equals-zero  2006  george-strait  Country   \n",
       "339670  339670                     kain  2007   blind-myself    Metal   \n",
       "\n",
       "                                                   lyrics  \\\n",
       "74104   [chorus]\\nBrave,Brave,Brave,Brave,Brave, Brave...   \n",
       "42713   [Mary]\\nCan't wait til we make real love becau...   \n",
       "51504   Real life\\nAce Hood, yea\\nWe the motherfuckin'...   \n",
       "311982  You always said you loved me\\nAnd I always bel...   \n",
       "339670  Kin, csd vre felkilt hozzm a Fldrl lgy teht tk...   \n",
       "\n",
       "                                             lyrics_clean  \n",
       "74104   chorus BraveBraveBraveBraveBrave BraveHeart te...  \n",
       "42713   Mary Cant wait til make real love because thes...  \n",
       "51504   Real life Ace Hood yea the motherfuckin best h...  \n",
       "311982  You always said you loved And always believed ...  \n",
       "339670  Kin csd vre felkilt hozzm Fldrl lgy teht tkozo...  "
      ]
     },
     "execution_count": 148,
     "metadata": {},
     "output_type": "execute_result"
    }
   ],
   "source": [
    "df_clean.head()"
   ]
  },
  {
   "cell_type": "markdown",
   "metadata": {
    "slideshow": {
     "slide_type": "slide"
    }
   },
   "source": [
    "## Summary of Data"
   ]
  },
  {
   "cell_type": "code",
   "execution_count": 149,
   "metadata": {
    "slideshow": {
     "slide_type": "fragment"
    }
   },
   "outputs": [
    {
     "data": {
      "text/html": [
       "<div>\n",
       "<style scoped>\n",
       "    .dataframe tbody tr th:only-of-type {\n",
       "        vertical-align: middle;\n",
       "    }\n",
       "\n",
       "    .dataframe tbody tr th {\n",
       "        vertical-align: top;\n",
       "    }\n",
       "\n",
       "    .dataframe thead th {\n",
       "        text-align: right;\n",
       "    }\n",
       "</style>\n",
       "<table border=\"1\" class=\"dataframe\">\n",
       "  <thead>\n",
       "    <tr style=\"text-align: right;\">\n",
       "      <th></th>\n",
       "      <th>index</th>\n",
       "      <th>song</th>\n",
       "      <th>year</th>\n",
       "      <th>artist</th>\n",
       "      <th>lyrics</th>\n",
       "      <th>lyrics_clean</th>\n",
       "    </tr>\n",
       "    <tr>\n",
       "      <th>genre</th>\n",
       "      <th></th>\n",
       "      <th></th>\n",
       "      <th></th>\n",
       "      <th></th>\n",
       "      <th></th>\n",
       "      <th></th>\n",
       "    </tr>\n",
       "  </thead>\n",
       "  <tbody>\n",
       "    <tr>\n",
       "      <th>Country</th>\n",
       "      <td>14387</td>\n",
       "      <td>14387</td>\n",
       "      <td>14387</td>\n",
       "      <td>14387</td>\n",
       "      <td>14387</td>\n",
       "      <td>14387</td>\n",
       "    </tr>\n",
       "    <tr>\n",
       "      <th>Electronic</th>\n",
       "      <td>7966</td>\n",
       "      <td>7966</td>\n",
       "      <td>7966</td>\n",
       "      <td>7966</td>\n",
       "      <td>7966</td>\n",
       "      <td>7966</td>\n",
       "    </tr>\n",
       "    <tr>\n",
       "      <th>Hip-Hop</th>\n",
       "      <td>24850</td>\n",
       "      <td>24850</td>\n",
       "      <td>24850</td>\n",
       "      <td>24850</td>\n",
       "      <td>24850</td>\n",
       "      <td>24850</td>\n",
       "    </tr>\n",
       "    <tr>\n",
       "      <th>Jazz</th>\n",
       "      <td>7971</td>\n",
       "      <td>7970</td>\n",
       "      <td>7971</td>\n",
       "      <td>7971</td>\n",
       "      <td>7971</td>\n",
       "      <td>7971</td>\n",
       "    </tr>\n",
       "    <tr>\n",
       "      <th>Metal</th>\n",
       "      <td>23759</td>\n",
       "      <td>23759</td>\n",
       "      <td>23759</td>\n",
       "      <td>23759</td>\n",
       "      <td>23759</td>\n",
       "      <td>23759</td>\n",
       "    </tr>\n",
       "  </tbody>\n",
       "</table>\n",
       "</div>"
      ],
      "text/plain": [
       "            index   song   year  artist  lyrics  lyrics_clean\n",
       "genre                                                        \n",
       "Country     14387  14387  14387   14387   14387         14387\n",
       "Electronic   7966   7966   7966    7966    7966          7966\n",
       "Hip-Hop     24850  24850  24850   24850   24850         24850\n",
       "Jazz         7971   7970   7971    7971    7971          7971\n",
       "Metal       23759  23759  23759   23759   23759         23759"
      ]
     },
     "execution_count": 149,
     "metadata": {},
     "output_type": "execute_result"
    }
   ],
   "source": [
    "df_clean.groupby('genre').count()"
   ]
  },
  {
   "cell_type": "markdown",
   "metadata": {
    "slideshow": {
     "slide_type": "fragment"
    }
   },
   "source": [
    "<center>\n",
    "    <img src=\"pie.png\" style=\"height:500px;\">\n",
    "</center> "
   ]
  },
  {
   "cell_type": "markdown",
   "metadata": {
    "slideshow": {
     "slide_type": "slide"
    }
   },
   "source": [
    "## 👠 Modeling\n",
    "\n",
    "### ✂️ Splitting data"
   ]
  },
  {
   "cell_type": "code",
   "execution_count": 150,
   "metadata": {
    "ExecuteTime": {
     "end_time": "2018-12-06T22:40:34.766216Z",
     "start_time": "2018-12-06T22:40:34.742559Z"
    },
    "slideshow": {
     "slide_type": "fragment"
    }
   },
   "outputs": [],
   "source": [
    "train, test = train_test_split(df_clean, test_size=0.2)\n",
    "train_lyrics = train['lyrics_clean']\n",
    "train_genre = train['genre']\n",
    "test_lyrics = test['lyrics_clean']\n",
    "test_genre = test['genre']"
   ]
  },
  {
   "cell_type": "markdown",
   "metadata": {
    "slideshow": {
     "slide_type": "slide"
    }
   },
   "source": [
    "### 📊 Supervised models\n",
    "\n",
    "- Pipelines: \n",
    "   - Vectorizers: CountVectorizer, TfidfVectorizer\n",
    "   - Estimators: MultinomialNB, LogisticRegression, LinearSVC\n",
    "\n",
    "- GridSearch"
   ]
  },
  {
   "cell_type": "code",
   "execution_count": 151,
   "metadata": {
    "ExecuteTime": {
     "end_time": "2018-12-02T01:56:11.950970Z",
     "start_time": "2018-12-02T01:56:11.944818Z"
    },
    "slideshow": {
     "slide_type": "skip"
    }
   },
   "outputs": [],
   "source": [
    "pipe_lr_cv = Pipeline([\n",
    "    ('cv', CountVectorizer(stop_words='english',\n",
    "                           lowercase=False,\n",
    "                           analyzer='word')),\n",
    "    ('lr', LogisticRegression())\n",
    "])\n",
    "\n",
    "pipe_lr_tf = Pipeline([\n",
    "    ('tfidf', TfidfVectorizer(stop_words='english',\n",
    "                              lowercase=False,\n",
    "                              analyzer='word')),\n",
    "    ('lr', LogisticRegression())\n",
    "])\n",
    "\n",
    "pipe_nb_cv = Pipeline([\n",
    "    ('cv', CountVectorizer(stop_words='english',\n",
    "                           lowercase=False,\n",
    "                           analyzer='word')),\n",
    "    ('nb', MultinomialNB())\n",
    "])\n",
    "\n",
    "pipe_nb_tf = Pipeline([\n",
    "    ('tfidf', TfidfVectorizer(stop_words='english',\n",
    "                              lowercase=False,\n",
    "                              analyzer='word')),\n",
    "    ('nb', MultinomialNB())\n",
    "])\n",
    "\n",
    "pipe_svc_cv = Pipeline([\n",
    "    ('cv', CountVectorizer(stop_words='english',\n",
    "                           lowercase=False,\n",
    "                           analyzer='word')),\n",
    "    ('svc', LinearSVC())\n",
    "])\n",
    "\n",
    "pipe_svc_tf = Pipeline([\n",
    "    ('tfidf', TfidfVectorizer(stop_words='english',\n",
    "                              lowercase=False,\n",
    "                              analyzer='word')),\n",
    "    ('svc', LinearSVC())\n",
    "])\n",
    "\n",
    "pipelines = [pipe_lr_cv, pipe_lr_tf, pipe_nb_cv,\n",
    "             pipe_nb_tf, pipe_svc_cv, pipe_svc_tf]"
   ]
  },
  {
   "cell_type": "code",
   "execution_count": 152,
   "metadata": {
    "ExecuteTime": {
     "end_time": "2018-12-02T02:01:16.913682Z",
     "start_time": "2018-12-02T01:56:20.755863Z"
    },
    "slideshow": {
     "slide_type": "skip"
    }
   },
   "outputs": [],
   "source": [
    "# Fit pipe\n",
    "for pipe in pipelines:\n",
    "    pipe.fit(train_lyrics, train_genre)"
   ]
  },
  {
   "cell_type": "code",
   "execution_count": 153,
   "metadata": {
    "ExecuteTime": {
     "end_time": "2018-12-02T02:01:32.569161Z",
     "start_time": "2018-12-02T02:01:16.915930Z"
    },
    "slideshow": {
     "slide_type": "skip"
    }
   },
   "outputs": [],
   "source": [
    "methods = []\n",
    "\n",
    "for pipe in pipelines:\n",
    "    name = pipe.steps[-1][1].__class__.__name__.split('.')[-1]\n",
    "    vect = pipe.steps[0][1].__class__.__name__.split('.')[-1]\n",
    "\n",
    "    predicted = pipe.predict(test_lyrics)\n",
    "    accuracy = accuracy_score(predicted, test['genre'])\n",
    "    conf_mat = confusion_matrix(test['genre'], predicted)\n",
    "\n",
    "    methods.append([name, vect, accuracy, conf_mat])\n",
    "\n",
    "methods = pd.DataFrame(methods)\n",
    "methods.columns = ['Model', 'Vectorizer', 'Accuracy', \"Confussion_Matrix\"]\n",
    "methods[\"Strategy\"] = methods[\"Model\"] + \" -- \" + methods[\"Vectorizer\"]\n",
    "methods.set_index([\"Strategy\"], inplace=True)"
   ]
  },
  {
   "cell_type": "markdown",
   "metadata": {
    "slideshow": {
     "slide_type": "slide"
    }
   },
   "source": [
    "### Pipelines"
   ]
  },
  {
   "cell_type": "code",
   "execution_count": 157,
   "metadata": {
    "ExecuteTime": {
     "end_time": "2018-12-02T02:01:32.588324Z",
     "start_time": "2018-12-02T02:01:32.570884Z"
    },
    "slideshow": {
     "slide_type": "fragment"
    }
   },
   "outputs": [
    {
     "data": {
      "text/html": [
       "<div>\n",
       "<style scoped>\n",
       "    .dataframe tbody tr th:only-of-type {\n",
       "        vertical-align: middle;\n",
       "    }\n",
       "\n",
       "    .dataframe tbody tr th {\n",
       "        vertical-align: top;\n",
       "    }\n",
       "\n",
       "    .dataframe thead th {\n",
       "        text-align: right;\n",
       "    }\n",
       "</style>\n",
       "<table border=\"1\" class=\"dataframe\">\n",
       "  <thead>\n",
       "    <tr style=\"text-align: right;\">\n",
       "      <th></th>\n",
       "      <th>Model</th>\n",
       "      <th>Vectorizer</th>\n",
       "      <th>Accuracy</th>\n",
       "    </tr>\n",
       "    <tr>\n",
       "      <th>Strategy</th>\n",
       "      <th></th>\n",
       "      <th></th>\n",
       "      <th></th>\n",
       "    </tr>\n",
       "  </thead>\n",
       "  <tbody>\n",
       "    <tr>\n",
       "      <th>LogisticRegression -- CountVectorizer</th>\n",
       "      <td>LogisticRegression</td>\n",
       "      <td>CountVectorizer</td>\n",
       "      <td>0.775195</td>\n",
       "    </tr>\n",
       "    <tr>\n",
       "      <th>LogisticRegression -- TfidfVectorizer</th>\n",
       "      <td>LogisticRegression</td>\n",
       "      <td>TfidfVectorizer</td>\n",
       "      <td>0.765250</td>\n",
       "    </tr>\n",
       "    <tr>\n",
       "      <th>MultinomialNB -- CountVectorizer</th>\n",
       "      <td>MultinomialNB</td>\n",
       "      <td>CountVectorizer</td>\n",
       "      <td>0.730411</td>\n",
       "    </tr>\n",
       "    <tr>\n",
       "      <th>MultinomialNB -- TfidfVectorizer</th>\n",
       "      <td>MultinomialNB</td>\n",
       "      <td>TfidfVectorizer</td>\n",
       "      <td>0.622981</td>\n",
       "    </tr>\n",
       "    <tr>\n",
       "      <th>LinearSVC -- CountVectorizer</th>\n",
       "      <td>LinearSVC</td>\n",
       "      <td>CountVectorizer</td>\n",
       "      <td>0.734022</td>\n",
       "    </tr>\n",
       "    <tr>\n",
       "      <th>LinearSVC -- TfidfVectorizer</th>\n",
       "      <td>LinearSVC</td>\n",
       "      <td>TfidfVectorizer</td>\n",
       "      <td>0.785140</td>\n",
       "    </tr>\n",
       "  </tbody>\n",
       "</table>\n",
       "</div>"
      ],
      "text/plain": [
       "                                                    Model       Vectorizer  \\\n",
       "Strategy                                                                     \n",
       "LogisticRegression -- CountVectorizer  LogisticRegression  CountVectorizer   \n",
       "LogisticRegression -- TfidfVectorizer  LogisticRegression  TfidfVectorizer   \n",
       "MultinomialNB -- CountVectorizer            MultinomialNB  CountVectorizer   \n",
       "MultinomialNB -- TfidfVectorizer            MultinomialNB  TfidfVectorizer   \n",
       "LinearSVC -- CountVectorizer                    LinearSVC  CountVectorizer   \n",
       "LinearSVC -- TfidfVectorizer                    LinearSVC  TfidfVectorizer   \n",
       "\n",
       "                                       Accuracy  \n",
       "Strategy                                         \n",
       "LogisticRegression -- CountVectorizer  0.775195  \n",
       "LogisticRegression -- TfidfVectorizer  0.765250  \n",
       "MultinomialNB -- CountVectorizer       0.730411  \n",
       "MultinomialNB -- TfidfVectorizer       0.622981  \n",
       "LinearSVC -- CountVectorizer           0.734022  \n",
       "LinearSVC -- TfidfVectorizer           0.785140  "
      ]
     },
     "execution_count": 157,
     "metadata": {},
     "output_type": "execute_result"
    }
   ],
   "source": [
    "methods[[\"Model\", \"Vectorizer\", \"Accuracy\"]]"
   ]
  },
  {
   "cell_type": "code",
   "execution_count": 114,
   "metadata": {
    "slideshow": {
     "slide_type": "slide"
    }
   },
   "outputs": [
    {
     "data": {
      "text/plain": [
       "<matplotlib.axes._subplots.AxesSubplot at 0x1a20eeeb00>"
      ]
     },
     "execution_count": 114,
     "metadata": {},
     "output_type": "execute_result"
    },
    {
     "data": {
      "image/png": "[encoded data removed]",
      "text/plain": [
       "<Figure size 1152x576 with 1 Axes>"
      ]
     },
     "metadata": {},
     "output_type": "display_data"
    }
   ],
   "source": [
    "# %matplotlib inline\n",
    "methods.plot(figsize=(16, 8), kind='bar', title='Accuracy',\n",
    "             rot=60, ylim=(0.5, 1), colormap='tab10')"
   ]
  },
  {
   "cell_type": "code",
   "execution_count": 120,
   "metadata": {
    "slideshow": {
     "slide_type": "skip"
    }
   },
   "outputs": [],
   "source": [
    "def plot_conf_mat(methods):\n",
    "    \"\"\"input: data frame with confussion matrix information\n",
    "    output: plot it\"\"\"\n",
    "    methods = methods.reset_index()\n",
    "    fig = plt.figure(figsize=(20, 10))\n",
    "    fig.subplots_adjust(hspace=0.5, wspace=0.5)\n",
    "    for i in range(1, 7):\n",
    "        ax = fig.add_subplot(2, 3, i)\n",
    "        sns.heatmap(methods[\"Confussion_Matrix\"].values[i-1],\n",
    "                    annot=True, fmt='d', ax=ax, cmap=\"Blues\")\n",
    "        ax.set_xlabel('Predicted labels')\n",
    "        ax.set_ylabel('True labels')\n",
    "        ax.set_title(f'Confusion Matrix {methods[\"Strategy\"].values[i-1]}')\n",
    "        ax.xaxis.set_ticklabels(df_clean.genre.unique(), rotation=60)\n",
    "        ax.yaxis.set_ticklabels(df_clean.genre.unique(), rotation=60)"
   ]
  },
  {
   "cell_type": "code",
   "execution_count": 121,
   "metadata": {
    "slideshow": {
     "slide_type": "slide"
    }
   },
   "outputs": [
    {
     "data": {
      "image/png": "[encoded data removed]",
      "text/plain": [
       "<Figure size 1440x720 with 12 Axes>"
      ]
     },
     "metadata": {},
     "output_type": "display_data"
    }
   ],
   "source": [
    "plot_conf_mat(methods)"
   ]
  },
  {
   "cell_type": "markdown",
   "metadata": {
    "slideshow": {
     "slide_type": "slide"
    }
   },
   "source": [
    "### Grid Search"
   ]
  },
  {
   "cell_type": "code",
   "execution_count": 12,
   "metadata": {
    "ExecuteTime": {
     "end_time": "2018-12-02T02:17:49.284942Z",
     "start_time": "2018-12-02T02:17:49.282117Z"
    },
    "slideshow": {
     "slide_type": "fragment"
    }
   },
   "outputs": [],
   "source": [
    "grid = {'svc__loss': ['hinge', 'squared_hinge']}\n",
    "\n",
    "gs = GridSearchCV(pipe_svc_tf,\n",
    "                  param_grid=grid,\n",
    "                  scoring='accuracy')"
   ]
  },
  {
   "cell_type": "code",
   "execution_count": 13,
   "metadata": {
    "ExecuteTime": {
     "start_time": "2018-12-02T02:17:50.087Z"
    },
    "slideshow": {
     "slide_type": "skip"
    }
   },
   "outputs": [
    {
     "data": {
      "text/plain": [
       "GridSearchCV(cv='warn', error_score='raise-deprecating',\n",
       "       estimator=Pipeline(memory=None,\n",
       "     steps=[('tfidf', TfidfVectorizer(analyzer='word', binary=False, decode_error='strict',\n",
       "        dtype=<class 'numpy.float64'>, encoding='utf-8', input='content',\n",
       "        lowercase=False, max_df=1.0, max_features=None, min_df=1,\n",
       "        ngram_range=(1, 1), norm='l2', preprocessor=None, smooth_idf=True...ax_iter=1000,\n",
       "     multi_class='ovr', penalty='l2', random_state=None, tol=0.0001,\n",
       "     verbose=0))]),\n",
       "       fit_params=None, iid='warn', n_jobs=None,\n",
       "       param_grid={'svc__loss': ['hinge', 'squared_hinge']},\n",
       "       pre_dispatch='2*n_jobs', refit=True, return_train_score='warn',\n",
       "       scoring='accuracy', verbose=0)"
      ]
     },
     "execution_count": 13,
     "metadata": {},
     "output_type": "execute_result"
    }
   ],
   "source": [
    "gs.fit(train_lyrics, train_genre)"
   ]
  },
  {
   "cell_type": "code",
   "execution_count": 14,
   "metadata": {
    "slideshow": {
     "slide_type": "skip"
    }
   },
   "outputs": [
    {
     "data": {
      "text/plain": [
       "{'mean_fit_time': array([20.27389606, 10.05352402]),\n",
       " 'std_fit_time': array([1.2627436 , 0.95058361]),\n",
       " 'mean_score_time': array([3.25944042, 3.1356039 ]),\n",
       " 'std_score_time': array([0.18695786, 0.02035713]),\n",
       " 'param_svc__loss': masked_array(data=['hinge', 'squared_hinge'],\n",
       "              mask=[False, False],\n",
       "        fill_value='?',\n",
       "             dtype=object),\n",
       " 'params': [{'svc__loss': 'hinge'}, {'svc__loss': 'squared_hinge'}],\n",
       " 'split0_test_score': array([0.76764846, 0.77244656]),\n",
       " 'split1_test_score': array([0.76858758, 0.77234073]),\n",
       " 'split2_test_score': array([0.76690265, 0.77108376]),\n",
       " 'mean_test_score': array([0.76771292, 0.77195705]),\n",
       " 'std_test_score': array([0.00068937, 0.00061898]),\n",
       " 'rank_test_score': array([2, 1], dtype=int32),\n",
       " 'split0_train_score': array([0.88564234, 0.9411583 ]),\n",
       " 'split1_train_score': array([0.88935079, 0.94272751]),\n",
       " 'split2_train_score': array([0.88614931, 0.94109124]),\n",
       " 'mean_train_score': array([0.88704748, 0.94165902]),\n",
       " 'std_train_score': array([0.00164178, 0.00075603])}"
      ]
     },
     "execution_count": 14,
     "metadata": {},
     "output_type": "execute_result"
    }
   ],
   "source": [
    "gs.cv_results_"
   ]
  },
  {
   "cell_type": "code",
   "execution_count": 15,
   "metadata": {
    "ExecuteTime": {
     "start_time": "2018-12-02T02:18:41.956Z"
    },
    "slideshow": {
     "slide_type": "skip"
    }
   },
   "outputs": [
    {
     "data": {
      "text/plain": [
       "TfidfVectorizer(analyzer='word', binary=False, decode_error='strict',\n",
       "        dtype=<class 'numpy.float64'>, encoding='utf-8', input='content',\n",
       "        lowercase=False, max_df=1.0, max_features=None, min_df=1,\n",
       "        ngram_range=(1, 1), norm='l2', preprocessor=None, smooth_idf=True,\n",
       "        stop_words='english', strip_accents=None, sublinear_tf=False,\n",
       "        token_pattern='(?u)\\\\b\\\\w\\\\w+\\\\b', tokenizer=None, use_idf=True,\n",
       "        vocabulary=None)"
      ]
     },
     "execution_count": 15,
     "metadata": {},
     "output_type": "execute_result"
    }
   ],
   "source": [
    "gs.best_estimator_.steps[0][1]  # best model"
   ]
  },
  {
   "cell_type": "code",
   "execution_count": 16,
   "metadata": {
    "slideshow": {
     "slide_type": "fragment"
    }
   },
   "outputs": [],
   "source": [
    "pred = gs.predict(test_lyrics)"
   ]
  },
  {
   "cell_type": "code",
   "execution_count": 33,
   "metadata": {
    "slideshow": {
     "slide_type": "fragment"
    }
   },
   "outputs": [
    {
     "name": "stdout",
     "output_type": "stream",
     "text": [
      "Accuracy: 0.7818\n"
     ]
    }
   ],
   "source": [
    "accuracy = accuracy_score(pred, test_genre)\n",
    "print(f\"Accuracy: {accuracy:.4f}\")"
   ]
  },
  {
   "cell_type": "markdown",
   "metadata": {
    "slideshow": {
     "slide_type": "slide"
    }
   },
   "source": [
    "#### 🤓 Random Forest with Feature Union"
   ]
  },
  {
   "cell_type": "code",
   "execution_count": 30,
   "metadata": {
    "ExecuteTime": {
     "end_time": "2018-12-06T22:53:59.680926Z",
     "start_time": "2018-12-06T22:53:46.658522Z"
    },
    "slideshow": {
     "slide_type": "skip"
    }
   },
   "outputs": [],
   "source": [
    "df_sample = df.sample(n=100000)  # sample because it takes too long to run\n",
    "\n",
    "df_sample = df_sample[pd.notnull(df_sample['lyrics'])]\n",
    "df_sample = df_sample[df_sample['genre'] != 'Not Available']\n",
    "df_sample = df_sample[df_sample['genre'] != 'Other']\n",
    "df_sample['lyrics_clean'] = df_sample.lyrics.apply(clean_lyrics)\n",
    "\n",
    "df_clean = df_sample[(df_sample.genre == 'Country') | (df_sample.genre == 'Metal') |\n",
    "                     (df_sample.genre == 'Hip-Hop') | (df_sample.genre == 'Jazz') | (df_sample.genre == 'Electronic')]"
   ]
  },
  {
   "cell_type": "code",
   "execution_count": 31,
   "metadata": {
    "ExecuteTime": {
     "end_time": "2018-12-06T22:54:05.789424Z",
     "start_time": "2018-12-06T22:54:05.786253Z"
    },
    "slideshow": {
     "slide_type": "skip"
    }
   },
   "outputs": [],
   "source": [
    "X, y = df_clean['lyrics'], df_clean['genre']"
   ]
  },
  {
   "cell_type": "code",
   "execution_count": 34,
   "metadata": {
    "ExecuteTime": {
     "end_time": "2018-12-06T22:54:21.327741Z",
     "start_time": "2018-12-06T22:54:21.316927Z"
    },
    "slideshow": {
     "slide_type": "skip"
    }
   },
   "outputs": [],
   "source": [
    "X_train, X_test, y_train, y_test = train_test_split(X, y, test_size=0.2)"
   ]
  },
  {
   "cell_type": "code",
   "execution_count": 37,
   "metadata": {
    "ExecuteTime": {
     "end_time": "2018-12-06T22:54:33.304594Z",
     "start_time": "2018-12-06T22:54:33.298340Z"
    },
    "slideshow": {
     "slide_type": "skip"
    }
   },
   "outputs": [],
   "source": [
    "# Refactor from http://michelleful.github.io/code-blog/2015/06/20/pipelines/\n",
    "class Polarity(BaseEstimator, TransformerMixin):\n",
    "    \"\"\"Takes in the lyrics column and outputs polarity score\"\"\"\n",
    "\n",
    "    def __init__(self):\n",
    "        pass\n",
    "\n",
    "    def sent_score(self, song):\n",
    "        \"\"\"Helper code to compute sentiment\"\"\"\n",
    "        sid = SentimentIntensityAnalyzer()\n",
    "        if type(song) is str:\n",
    "            return sid.polarity_scores(\", \".join(song.split(\"\\n\")))['compound']\n",
    "        else:\n",
    "            return 0\n",
    "\n",
    "    def transform(self, X, y=None):\n",
    "        \"\"\"Transform function of this feature extractor\"\"\"\n",
    "        return np.array(X.apply(self.sent_score)).reshape(-1, 1)\n",
    "\n",
    "    def fit(self, X, y=None):\n",
    "        \"\"\"Returns `self` unless there is other functions in train and test\"\"\"\n",
    "        return self"
   ]
  },
  {
   "cell_type": "code",
   "execution_count": 38,
   "metadata": {
    "ExecuteTime": {
     "end_time": "2018-12-06T22:54:36.454161Z",
     "start_time": "2018-12-06T22:54:36.449314Z"
    },
    "slideshow": {
     "slide_type": "skip"
    }
   },
   "outputs": [],
   "source": [
    "# Refactor from http://michelleful.github.io/code-blog/2015/06/20/pipelines/\n",
    "class AverageWordLength(BaseEstimator, TransformerMixin):\n",
    "    \"\"\"Takes in the lyrics column and outputs average word length\"\"\"\n",
    "\n",
    "    def __init__(self):\n",
    "        pass\n",
    "\n",
    "    def average_word_length(self, song):\n",
    "        \"\"\"Helper code to compute average word length\"\"\"\n",
    "        return np.mean([len(w) for w in clean_lyrics(song).split(\" \")])\n",
    "\n",
    "    def transform(self, X, y=None):\n",
    "        \"\"\"Transform function of this feature extractor\"\"\"\n",
    "        return np.array(X.apply(self.average_word_length)).reshape(-1, 1)\n",
    "\n",
    "    def fit(self, X, y=None):\n",
    "        \"\"\"Returns `self` unless there is other functions in train and test\"\"\"\n",
    "        return self"
   ]
  },
  {
   "cell_type": "code",
   "execution_count": 39,
   "metadata": {
    "ExecuteTime": {
     "end_time": "2018-12-06T22:54:37.622373Z",
     "start_time": "2018-12-06T22:54:37.601325Z"
    },
    "slideshow": {
     "slide_type": "skip"
    }
   },
   "outputs": [],
   "source": [
    "# features:\n",
    "countVectorizer = ('vect', CountVectorizer(\n",
    "    stop_words='english', lowercase=True, analyzer='word'))\n",
    "tfidf = ('tfidf', TfidfVectorizer())\n",
    "polarity = ('polarity', Polarity())\n",
    "avg_len = ('avg_len', AverageWordLength())"
   ]
  },
  {
   "cell_type": "code",
   "execution_count": null,
   "metadata": {
    "slideshow": {
     "slide_type": "fragment"
    }
   },
   "outputs": [],
   "source": [
    "# pipe this features into the pipeline and FeatureUnion\n",
    "pipeline = Pipeline([\n",
    "    ('feats', FeatureUnion([avg_len, polarity, countVectorizer])),\n",
    "    ('clf', RandomForestClassifier(n_estimators=200, n_jobs=-1))\n",
    "])"
   ]
  },
  {
   "cell_type": "code",
   "execution_count": 40,
   "metadata": {
    "ExecuteTime": {
     "end_time": "2018-12-06T23:06:27.259112Z",
     "start_time": "2018-12-06T22:54:39.026576Z"
    },
    "slideshow": {
     "slide_type": "skip"
    }
   },
   "outputs": [
    {
     "data": {
      "text/plain": [
       "0.7467434110875493"
      ]
     },
     "execution_count": 40,
     "metadata": {},
     "output_type": "execute_result"
    }
   ],
   "source": [
    "pipeline.fit(X_train, y_train)\n",
    "pred = pipeline.predict(X_test)"
   ]
  },
  {
   "cell_type": "code",
   "execution_count": 43,
   "metadata": {
    "ExecuteTime": {
     "end_time": "2018-12-06T23:17:11.306111Z",
     "start_time": "2018-12-06T23:17:11.287443Z"
    },
    "slideshow": {
     "slide_type": "fragment"
    }
   },
   "outputs": [
    {
     "name": "stdout",
     "output_type": "stream",
     "text": [
      "Accuracy: 0.7467\n"
     ]
    }
   ],
   "source": [
    "accuracy_score(pred, y_test)\n",
    "print(f\"Accuracy: {accuracy_score(pred, y_test):.4f}\")"
   ]
  },
  {
   "cell_type": "markdown",
   "metadata": {
    "slideshow": {
     "slide_type": "slide"
    }
   },
   "source": [
    "# 🏆 Winner supervised model: \n",
    "\n",
    "`LinearSVC() with TfidfVectorizer()`"
   ]
  },
  {
   "cell_type": "markdown",
   "metadata": {
    "slideshow": {
     "slide_type": "slide"
    }
   },
   "source": [
    "## 🤔 Unsupervised model\n",
    "\n",
    "- KMeans"
   ]
  },
  {
   "cell_type": "code",
   "execution_count": 28,
   "metadata": {
    "ExecuteTime": {
     "end_time": "2018-12-06T22:41:06.608599Z",
     "start_time": "2018-12-06T22:40:59.359569Z"
    },
    "slideshow": {
     "slide_type": "skip"
    }
   },
   "outputs": [],
   "source": [
    "# we create the vectorizer\n",
    "tfidf = TfidfVectorizer(stop_words='english',\n",
    "                        tokenizer=lambda x: x.split())\n",
    "\n",
    "# we fit the train data\n",
    "tf_features = tfidf.fit_transform(train.lyrics_clean)\n",
    "\n",
    "# and we transform the test data\n",
    "test_features = tfidf.transform(test.lyrics_clean)"
   ]
  },
  {
   "cell_type": "code",
   "execution_count": 42,
   "metadata": {
    "ExecuteTime": {
     "end_time": "2018-12-06T23:11:29.467703Z",
     "start_time": "2018-12-06T23:11:29.465422Z"
    },
    "slideshow": {
     "slide_type": "skip"
    }
   },
   "outputs": [],
   "source": [
    "# now, we fit the model\n",
    "true_k = 11\n",
    "model = KMeans(n_clusters=true_k, init='k-means++', max_iter=100, n_init=1)\n",
    "model.fit(tf_features)\n",
    "\n",
    "print(\"Top terms per cluster:\")\n",
    "order_centroids = model.cluster_centers_.argsort()[:, ::-1]\n",
    "terms = tfidf.get_feature_names()\n",
    "for i in range(true_k):\n",
    "    print(\"Cluster %d:\" % i),\n",
    "    for ind in order_centroids[i, :10]:\n",
    "        print(' %s' % terms[ind]),\n",
    "    print\n",
    "\n",
    "print(\"\\n\")\n",
    "print(\"Prediction\")"
   ]
  },
  {
   "cell_type": "markdown",
   "metadata": {
    "ExecuteTime": {
     "end_time": "2018-12-06T23:06:27.266109Z",
     "start_time": "2018-12-06T23:06:27.261221Z"
    },
    "slideshow": {
     "slide_type": "fragment"
    }
   },
   "source": [
    "<center>\n",
    "    <img src=\"KMeans_Result.png\">\n",
    "</center> "
   ]
  },
  {
   "cell_type": "markdown",
   "metadata": {
    "slideshow": {
     "slide_type": "fragment"
    }
   },
   "source": [
    "<center>\n",
    "    <big>🇺🇸 &nbsp;&nbsp;&nbsp; &nbsp;&nbsp;&nbsp; &nbsp;&nbsp;&nbsp; \n",
    "        &nbsp;&nbsp;&nbsp; &nbsp;&nbsp;&nbsp;\n",
    "         🇺🇸 &nbsp;&nbsp;&nbsp; &nbsp;&nbsp;&nbsp; &nbsp;&nbsp;&nbsp; \n",
    "        &nbsp;&nbsp;&nbsp; &nbsp;&nbsp;&nbsp; \n",
    "         🇪🇸 &nbsp;&nbsp;&nbsp; &nbsp;&nbsp;&nbsp; &nbsp;&nbsp;&nbsp;\n",
    "        &nbsp;&nbsp;&nbsp; &nbsp;&nbsp;&nbsp; \n",
    "         🇩🇪 &nbsp;&nbsp;&nbsp;  </big>\n",
    "</center> "
   ]
  },
  {
   "cell_type": "markdown",
   "metadata": {
    "slideshow": {
     "slide_type": "slide"
    }
   },
   "source": [
    "<center>\n",
    "    <img src=\"are you smarter.png\">\n",
    "    <big>\n",
    "    🥊 LinearSVC vs Humans 🥊\n",
    "    </big>\n",
    "</center>"
   ]
  },
  {
   "cell_type": "code",
   "execution_count": 46,
   "metadata": {
    "slideshow": {
     "slide_type": "fragment"
    }
   },
   "outputs": [],
   "source": [
    "def predictor(string, train=train['lyrics_clean'], model=pipe_svc_tf):\n",
    "    \"\"\"given a string predict a genre based on the lyrics and best trained model (or a given ones). \n",
    "    \"\"\"\n",
    "    pred = model.predict([clean_lyrics(string)])\n",
    "    return list(pred)"
   ]
  },
  {
   "cell_type": "code",
   "execution_count": 122,
   "metadata": {
    "slideshow": {
     "slide_type": "slide"
    }
   },
   "outputs": [],
   "source": [
    "mystery1 = \"\"\"Got a little boom in my big truck\n",
    "Gonna open up the doors and turn it up\n",
    "Gonna stomp my boots in the Georgia mud\n",
    "Gonna watch you make me fall in love\n",
    "Get up on the hood of my daddy's tractor\n",
    "Up on the tool box, it don't matter\n",
    "Down on the tailgate\n",
    "Girl I can't wait\n",
    "To watch you do your thing\n",
    "\"\"\""
   ]
  },
  {
   "cell_type": "code",
   "execution_count": null,
   "metadata": {},
   "outputs": [],
   "source": [
    "predictor(mystery1)"
   ]
  },
  {
   "cell_type": "code",
   "execution_count": 95,
   "metadata": {
    "slideshow": {
     "slide_type": "slide"
    }
   },
   "outputs": [],
   "source": [
    "mystery2 = \"\"\"Oh, sometimes\n",
    "I get a good feeling, yeah\n",
    "Get a feeling that I never, \n",
    "never, never, never had before, no no\n",
    "I get a good feeling, yeah\n",
    "\"\"\""
   ]
  },
  {
   "cell_type": "code",
   "execution_count": null,
   "metadata": {},
   "outputs": [],
   "source": [
    "predictor(mystery2)"
   ]
  },
  {
   "cell_type": "code",
   "execution_count": 133,
   "metadata": {
    "slideshow": {
     "slide_type": "slide"
    }
   },
   "outputs": [],
   "source": [
    "mystery3 = \"\"\"I can't tell you what it really is\n",
    "I can only tell you what it feels like\n",
    "And right now there's a steel knife, in my windpipe\n",
    "I can't breathe, but I still fight, while I can fight\n",
    "As long as the wrong feels right, it's like I'm in flight\n",
    "\"\"\""
   ]
  },
  {
   "cell_type": "code",
   "execution_count": null,
   "metadata": {},
   "outputs": [],
   "source": [
    "predictor(mystery3)"
   ]
  },
  {
   "cell_type": "markdown",
   "metadata": {
    "slideshow": {
     "slide_type": "slide"
    }
   },
   "source": [
    "<center>\n",
    "    <img src=\"bitmojis.png\" style=\"height:600px;\">\n",
    "</center>"
   ]
  },
  {
   "cell_type": "code",
   "execution_count": 136,
   "metadata": {
    "slideshow": {
     "slide_type": "fragment"
    }
   },
   "outputs": [
    {
     "name": "stdout",
     "output_type": "stream",
     "text": [
      "Rebecca pick-up truck Reilly: ['Country']\n",
      "Ekaterina money Wittfoth: ['Hip-Hop']\n",
      "Fiorella blues Tenorio: ['Jazz']\n",
      "Viviana hyper Márquez: ['Electronic']\n"
     ]
    }
   ],
   "source": [
    "people = ['Rebecca pick-up truck Reilly', \"Ekaterina money Wittfoth\",\n",
    "          \"Fiorella blues Tenorio\", \"Viviana hyper Márquez\"]\n",
    "for person in people:\n",
    "    print(f\"{person}: {predictor(person)}\")"
   ]
  },
  {
   "cell_type": "markdown",
   "metadata": {
    "slideshow": {
     "slide_type": "slide"
    }
   },
   "source": [
    "# Recap ✍️\n",
    "\n",
    "- We used data on lyrics to predict five genres\n",
    "- We tried four supervised algorithms\n",
    "- Concluded that the best one is LinearSVC\n",
    "- Unsupervised learning showed us that language was the most important feature"
   ]
  },
  {
   "attachments": {},
   "cell_type": "markdown",
   "metadata": {
    "slideshow": {
     "slide_type": "slide"
    }
   },
   "source": [
    "# Fun fact\n",
    "<center>\n",
    "<img src = \"article1.png\" style=\"height:270px;\">\n",
    "<img src = \"article2.png\" style=\"height:270px;\">\n",
    "</center>"
   ]
  },
  {
   "cell_type": "markdown",
   "metadata": {
    "slideshow": {
     "slide_type": "slide"
    }
   },
   "source": [
    "# Questions"
   ]
  },
  {
   "cell_type": "code",
   "execution_count": 138,
   "metadata": {
    "slideshow": {
     "slide_type": "slide"
    }
   },
   "outputs": [
    {
     "name": "stdout",
     "output_type": "stream",
     "text": [
      "Victoria Suarez: ['Metal']\n"
     ]
    }
   ],
   "source": [
    "person = \"Victoria Suarez\"\n",
    "print(f\"{person}: {predictor(person)}\")"
   ]
  },
  {
   "cell_type": "markdown",
   "metadata": {
    "slideshow": {
     "slide_type": "fragment"
    }
   },
   "source": [
    "<center><img src=\"bitmoji_victoria.png\" style=\"height:500px;\"></center>"
   ]
  },
  {
   "cell_type": "markdown",
   "metadata": {
    "slideshow": {
     "slide_type": "slide"
    }
   },
   "source": [
    "# ❓ [Real] Questions\n",
    "\n",
    "Github: https://github.com/r-reilly/MSDS621_Project"
   ]
  }
 ],
 "metadata": {
  "celltoolbar": "Slideshow",
  "kernelspec": {
   "display_name": "Python 3",
   "language": "python",
   "name": "python3"
  },
  "language_info": {
   "codemirror_mode": {
    "name": "ipython",
    "version": 3
   },
   "file_extension": ".py",
   "mimetype": "text/x-python",
   "name": "python",
   "nbconvert_exporter": "python",
   "pygments_lexer": "ipython3",
   "version": "3.6.7"
  }
 },
 "nbformat": 4,
 "nbformat_minor": 2
}
