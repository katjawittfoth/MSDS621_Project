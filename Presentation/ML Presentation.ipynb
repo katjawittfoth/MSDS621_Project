{
 "cells": [
  {
   "cell_type": "markdown",
   "metadata": {
    "slideshow": {
     "slide_type": "slide"
    }
   },
   "source": [
    "# 🎶 Predicting Lyrics\n",
    "<hr>\n",
    "<br>\n",
    "<b> Group name: <strike>AA</strike> <i>My Machine Learning Romance</i> </b> <br>\n",
    "- Fiorella Tenorio <br>\n",
    "- Katja Wittfoth <br>\n",
    "- Rebecca Reilly <br>\n",
    "- Victoria Suarez <br>\n",
    "- Viviana Márquez <br>"
   ]
  },
  {
   "cell_type": "markdown",
   "metadata": {
    "slideshow": {
     "slide_type": "fragment"
    }
   },
   "source": [
    "<br>\n",
    "<img src='USF.png', style=\"width:200px;\" align=\"left\">\n",
    "Friday, December 7th, 2018. <br>\n",
    "<b> MSDS 621 </b> - Introduction to Machine Learning "
   ]
  },
  {
   "cell_type": "markdown",
   "metadata": {
    "slideshow": {
     "slide_type": "slide"
    }
   },
   "source": [
    "## Goal \n",
    "<center>\n",
    "    <img src=\"are you smarter.png\">\n",
    "    <big>Predict genre based on lyrics</big><br><br>\n",
    "    🥊 Supervised <i>vs.</i> Unspervised  <i>vs.</i> Humans 🥊\n",
    "</center> "
   ]
  },
  {
   "cell_type": "markdown",
   "metadata": {
    "slideshow": {
     "slide_type": "slide"
    }
   },
   "source": [
    "## Workflow Pipeline\n",
    "<center>\n",
    "    <img src=\"workflow2.png\" style=\"height:500px\">\n",
    "</center> "
   ]
  },
  {
   "cell_type": "code",
   "execution_count": 36,
   "metadata": {
    "ExecuteTime": {
     "end_time": "2018-12-06T22:54:27.725103Z",
     "start_time": "2018-12-06T22:54:27.508405Z"
    },
    "slideshow": {
     "slide_type": "skip"
    }
   },
   "outputs": [],
   "source": [
    "# Libraries\n",
    "import warnings\n",
    "import numpy as np\n",
    "import pandas as pd\n",
    "import sklearn\n",
    "import matplotlib.pyplot as plt\n",
    "import seaborn as sns\n",
    "import string\n",
    "import re\n",
    "\n",
    "from sklearn.model_selection import train_test_split\n",
    "from sklearn.feature_extraction.text import CountVectorizer\n",
    "from sklearn.feature_extraction.text import TfidfTransformer\n",
    "from sklearn.pipeline import Pipeline, FeatureUnion\n",
    "from sklearn.naive_bayes import MultinomialNB\n",
    "from sklearn.metrics import accuracy_score\n",
    "from sklearn.metrics import confusion_matrix\n",
    "from sklearn.feature_extraction import stop_words\n",
    "from sklearn.model_selection import GridSearchCV\n",
    "from sklearn.base import BaseEstimator\n",
    "from sklearn.cluster import KMeans\n",
    "from sklearn.base import BaseEstimator, TransformerMixin\n",
    "from sklearn.ensemble import RandomForestClassifier\n",
    "\n",
    "from vaderSentiment.vaderSentiment import SentimentIntensityAnalyzer\n",
    "\n",
    "import glob\n",
    "import os\n",
    "import pandas as pd\n",
    "import matplotlib.pyplot as plt\n",
    "import seaborn as sns\n",
    "\n",
    "from sklearn.naive_bayes import MultinomialNB\n",
    "from sklearn.linear_model import LogisticRegression\n",
    "from sklearn.svm import LinearSVC\n",
    "\n",
    "from sklearn.feature_extraction.text import TfidfVectorizer\n",
    "from sklearn.feature_extraction.text import CountVectorizer\n",
    "\n",
    "from sklearn.tree import DecisionTreeClassifier\n",
    "from sklearn.tree import ExtraTreeClassifier\n",
    "\n",
    "from sklearn.ensemble import AdaBoostClassifier\n",
    "from sklearn.ensemble import RandomForestClassifier\n",
    "from sklearn.ensemble import VotingClassifier\n",
    "from sklearn.ensemble import GradientBoostingClassifier\n",
    "\n",
    "from sklearn.metrics import accuracy_score, f1_score, recall_score, precision_score, roc_auc_score, roc_curve\n",
    "from sklearn.metrics import confusion_matrix\n",
    "from sklearn.model_selection import cross_val_score\n",
    "\n",
    "\n",
    "import numpy as np\n",
    "from sklearn.pipeline import Pipeline\n",
    "from sklearn.model_selection import learning_curve\n",
    "from sklearn.pipeline import make_pipeline\n",
    "import seaborn as sns\n",
    "sns.set()\n",
    "\n",
    "warnings.filterwarnings('ignore')"
   ]
  },
  {
   "cell_type": "code",
   "execution_count": 3,
   "metadata": {
    "ExecuteTime": {
     "end_time": "2018-12-06T22:15:45.713230Z",
     "start_time": "2018-12-06T22:15:43.102069Z"
    },
    "slideshow": {
     "slide_type": "skip"
    }
   },
   "outputs": [],
   "source": [
    "# Read data\n",
    "df = pd.read_csv('../lyrics.csv')"
   ]
  },
  {
   "cell_type": "code",
   "execution_count": 4,
   "metadata": {
    "ExecuteTime": {
     "end_time": "2018-12-06T22:16:20.913129Z",
     "start_time": "2018-12-06T22:15:50.063612Z"
    },
    "slideshow": {
     "slide_type": "skip"
    }
   },
   "outputs": [],
   "source": [
    "# Clean data\n",
    "def clean_lyrics(text):\n",
    "    text = re.sub('\\n', ' ', text)  # removes new lines\n",
    "    text = re.sub('\\d', '', text)  # removes numbers\n",
    "    text = re.sub('\\t', '', text)  # removes tabs\n",
    "    text = re.sub('[^A-Za-z ]', '', text)  # removes special character\n",
    "    text = re.sub('\\[Verse\\s*\\d*:]', ' ', text)  # remove verse indicators\n",
    "    text = re.sub('\\s+', ' ', text)\n",
    "    words = text.split(\" \")\n",
    "    words = [w for w in words if len(w) > 2]  # removes a, an, to, at, be, ...\n",
    "    return ' '.join(words)\n",
    "\n",
    "\n",
    "df = df[pd.notnull(df['lyrics'])]\n",
    "df = df[df['genre'] != 'Not Available']\n",
    "df = df[df['genre'] != 'Other']\n",
    "df['lyrics_clean'] = df.lyrics.apply(clean_lyrics)\n",
    "\n",
    "df_clean = df[(df.genre == 'Country') | (df.genre == 'Metal') |\n",
    "              (df.genre == 'Hip-Hop') | (df.genre == 'Jazz') | (df.genre == 'Electronic')]\n",
    "\n",
    "df_clean = df_clean.sample(frac=1)  # shuffle"
   ]
  },
  {
   "cell_type": "markdown",
   "metadata": {
    "slideshow": {
     "slide_type": "slide"
    }
   },
   "source": [
    "## 📊 1. Get data and pre-process\n",
    "\n",
    "- 380,000+ lyrics  from MetroLyrics in <a href=\"https://www.kaggle.com/gyani95/380000-lyrics-from-metrolyrics\">Kaggle</a>\n",
    "\n",
    "#### 🛁 Cleaning \n",
    "- Remove: `Null` lyrics, \"Not available\" genre, punctuation, numbers, symbols, spaces, stop words.\n",
    "- Shuffle data.\n",
    "- **Genres**: Country, Metal, Hip-Hop, Jazz, Electronic."
   ]
  },
  {
   "cell_type": "code",
   "execution_count": 4,
   "metadata": {
    "slideshow": {
     "slide_type": "fragment"
    }
   },
   "outputs": [
    {
     "data": {
      "text/html": [
       "<div>\n",
       "<style scoped>\n",
       "    .dataframe tbody tr th:only-of-type {\n",
       "        vertical-align: middle;\n",
       "    }\n",
       "\n",
       "    .dataframe tbody tr th {\n",
       "        vertical-align: top;\n",
       "    }\n",
       "\n",
       "    .dataframe thead th {\n",
       "        text-align: right;\n",
       "    }\n",
       "</style>\n",
       "<table border=\"1\" class=\"dataframe\">\n",
       "  <thead>\n",
       "    <tr style=\"text-align: right;\">\n",
       "      <th></th>\n",
       "      <th>index</th>\n",
       "      <th>song</th>\n",
       "      <th>year</th>\n",
       "      <th>artist</th>\n",
       "      <th>genre</th>\n",
       "      <th>lyrics</th>\n",
       "      <th>lyrics_clean</th>\n",
       "    </tr>\n",
       "  </thead>\n",
       "  <tbody>\n",
       "    <tr>\n",
       "      <th>138273</th>\n",
       "      <td>138273</td>\n",
       "      <td>save-me-from-me</td>\n",
       "      <td>2012</td>\n",
       "      <td>bobby-v</td>\n",
       "      <td>Hip-Hop</td>\n",
       "      <td>Is anybody out there, gonna save me'\\nIs anybo...</td>\n",
       "      <td>anybody out there gonna save anybody out there...</td>\n",
       "    </tr>\n",
       "    <tr>\n",
       "      <th>268978</th>\n",
       "      <td>268978</td>\n",
       "      <td>that-s-life-i-guess</td>\n",
       "      <td>2006</td>\n",
       "      <td>billie-holiday</td>\n",
       "      <td>Jazz</td>\n",
       "      <td>Sometimes I wonder\\nWhat's in store for me\\nYo...</td>\n",
       "      <td>Sometimes wonder Whats store for Your love cou...</td>\n",
       "    </tr>\n",
       "    <tr>\n",
       "      <th>165826</th>\n",
       "      <td>165826</td>\n",
       "      <td>wer-ich-bin</td>\n",
       "      <td>2007</td>\n",
       "      <td>bushido</td>\n",
       "      <td>Hip-Hop</td>\n",
       "      <td>Ich bin zurÃ¼ck dieser Dealer vom Block,\\nIhr ...</td>\n",
       "      <td>Ich bin zurck dieser Dealer vom Block Ihr knnt...</td>\n",
       "    </tr>\n",
       "    <tr>\n",
       "      <th>327046</th>\n",
       "      <td>327046</td>\n",
       "      <td>burned-with-desire-rising-star-mix</td>\n",
       "      <td>2006</td>\n",
       "      <td>armin-van-buuren</td>\n",
       "      <td>Electronic</td>\n",
       "      <td>For each forgotten kiss,\\nFor all the memories...</td>\n",
       "      <td>For each forgotten kiss For all the memories F...</td>\n",
       "    </tr>\n",
       "    <tr>\n",
       "      <th>151470</th>\n",
       "      <td>151470</td>\n",
       "      <td>wither</td>\n",
       "      <td>2007</td>\n",
       "      <td>earth-crisis</td>\n",
       "      <td>Metal</td>\n",
       "      <td>Near lifeless skin stretched over a prone skel...</td>\n",
       "      <td>Near lifeless skin stretched over prone skelet...</td>\n",
       "    </tr>\n",
       "  </tbody>\n",
       "</table>\n",
       "</div>"
      ],
      "text/plain": [
       "         index                                song  year            artist  \\\n",
       "138273  138273                     save-me-from-me  2012           bobby-v   \n",
       "268978  268978                 that-s-life-i-guess  2006    billie-holiday   \n",
       "165826  165826                         wer-ich-bin  2007           bushido   \n",
       "327046  327046  burned-with-desire-rising-star-mix  2006  armin-van-buuren   \n",
       "151470  151470                              wither  2007      earth-crisis   \n",
       "\n",
       "             genre                                             lyrics  \\\n",
       "138273     Hip-Hop  Is anybody out there, gonna save me'\\nIs anybo...   \n",
       "268978        Jazz  Sometimes I wonder\\nWhat's in store for me\\nYo...   \n",
       "165826     Hip-Hop  Ich bin zurÃ¼ck dieser Dealer vom Block,\\nIhr ...   \n",
       "327046  Electronic  For each forgotten kiss,\\nFor all the memories...   \n",
       "151470       Metal  Near lifeless skin stretched over a prone skel...   \n",
       "\n",
       "                                             lyrics_clean  \n",
       "138273  anybody out there gonna save anybody out there...  \n",
       "268978  Sometimes wonder Whats store for Your love cou...  \n",
       "165826  Ich bin zurck dieser Dealer vom Block Ihr knnt...  \n",
       "327046  For each forgotten kiss For all the memories F...  \n",
       "151470  Near lifeless skin stretched over prone skelet...  "
      ]
     },
     "execution_count": 4,
     "metadata": {},
     "output_type": "execute_result"
    }
   ],
   "source": [
    "df_clean.head()"
   ]
  },
  {
   "cell_type": "markdown",
   "metadata": {
    "slideshow": {
     "slide_type": "slide"
    }
   },
   "source": [
    "## 👠 2. Modeling\n",
    "\n",
    "### ✂️ Splitting data"
   ]
  },
  {
   "cell_type": "code",
   "execution_count": 25,
   "metadata": {
    "ExecuteTime": {
     "end_time": "2018-12-06T22:40:34.766216Z",
     "start_time": "2018-12-06T22:40:34.742559Z"
    },
    "slideshow": {
     "slide_type": "fragment"
    }
   },
   "outputs": [],
   "source": [
    "train, test = train_test_split(df_clean, test_size=0.2)\n",
    "train_lyrics = train['lyrics_clean']\n",
    "train_genre = train['genre']\n",
    "test_lyrics = test['lyrics_clean']\n",
    "test_genre = test['genre']"
   ]
  },
  {
   "cell_type": "markdown",
   "metadata": {
    "slideshow": {
     "slide_type": "slide"
    }
   },
   "source": [
    "### 🥊 Supervised models\n",
    "\n",
    "- Pipelines: \n",
    "   - Vectorizers: CountVectorizer, TfidfVectorizer\n",
    "   - Estimators: MultinomialNB, LogisticRegression, LinearSVC\n",
    "\n",
    "- GridSearch"
   ]
  },
  {
   "cell_type": "code",
   "execution_count": 6,
   "metadata": {
    "ExecuteTime": {
     "end_time": "2018-12-02T01:56:11.950970Z",
     "start_time": "2018-12-02T01:56:11.944818Z"
    },
    "slideshow": {
     "slide_type": "skip"
    }
   },
   "outputs": [],
   "source": [
    "pipe_lr_cv = Pipeline([\n",
    "    ('cv', CountVectorizer(stop_words='english',\n",
    "                             lowercase=False,\n",
    "                             analyzer='word')),\n",
    "    ('lr', LogisticRegression())\n",
    "])\n",
    "\n",
    "pipe_lr_tf = Pipeline([\n",
    "    ('tfidf', TfidfVectorizer(stop_words='english',\n",
    "                             lowercase=False,\n",
    "                             analyzer='word')),\n",
    "    ('lr', LogisticRegression())\n",
    "])\n",
    "\n",
    "pipe_nb_cv = Pipeline([\n",
    "    ('cv', CountVectorizer(stop_words='english',\n",
    "                             lowercase=False,\n",
    "                             analyzer='word')),\n",
    "    ('nb', MultinomialNB())\n",
    "])\n",
    "\n",
    "pipe_nb_tf = Pipeline([\n",
    "    ('tfidf', TfidfVectorizer(stop_words='english',\n",
    "                             lowercase=False,\n",
    "                             analyzer='word')),\n",
    "    ('nb', MultinomialNB())\n",
    "])\n",
    "\n",
    "pipe_svc_cv = Pipeline([\n",
    "    ('cv', CountVectorizer(stop_words='english',\n",
    "                             lowercase=False,\n",
    "                             analyzer='word')),\n",
    "    ('svc', LinearSVC())\n",
    "])\n",
    "\n",
    "pipe_svc_tf = Pipeline([\n",
    "    ('tfidf', TfidfVectorizer(stop_words='english',\n",
    "                             lowercase=False,\n",
    "                             analyzer='word')),\n",
    "    ('svc', LinearSVC())\n",
    "])\n",
    "\n",
    "pipelines = [pipe_lr_cv, pipe_lr_tf, pipe_nb_cv, pipe_nb_tf, pipe_svc_cv, pipe_svc_tf]"
   ]
  },
  {
   "cell_type": "code",
   "execution_count": 7,
   "metadata": {
    "ExecuteTime": {
     "end_time": "2018-12-02T02:01:16.913682Z",
     "start_time": "2018-12-02T01:56:20.755863Z"
    },
    "slideshow": {
     "slide_type": "skip"
    }
   },
   "outputs": [],
   "source": [
    "# Fit pipe\n",
    "for pipe in pipelines:\n",
    "    pipe.fit(train_lyrics, train_genre)"
   ]
  },
  {
   "cell_type": "code",
   "execution_count": 8,
   "metadata": {
    "ExecuteTime": {
     "end_time": "2018-12-02T02:01:32.569161Z",
     "start_time": "2018-12-02T02:01:16.915930Z"
    },
    "slideshow": {
     "slide_type": "skip"
    }
   },
   "outputs": [],
   "source": [
    "methods = []\n",
    "\n",
    "for pipe in pipelines:\n",
    "    name = pipe.steps[-1][1].__class__.__name__.split('.')[-1]\n",
    "    vect = pipe.steps[0][1].__class__.__name__.split('.')[-1]\n",
    "\n",
    "    predicted = pipe.predict(test_lyrics)\n",
    "    accuracy = accuracy_score(predicted, test['genre'])\n",
    "    conf_mat = confusion_matrix(test['genre'], predicted)\n",
    "\n",
    "    methods.append([name, vect, accuracy, conf_mat])\n",
    "\n",
    "methods = pd.DataFrame(methods)\n",
    "methods.columns = ['Model', 'Vectorizer', 'Accuracy', \"Confussion_Matrix\"]\n",
    "methods[\"Strategy\"] = methods[\"Model\"] + \" -- \" + methods[\"Vectorizer\"]\n",
    "methods.set_index([\"Strategy\"], inplace=True)"
   ]
  },
  {
   "cell_type": "markdown",
   "metadata": {
    "slideshow": {
     "slide_type": "slide"
    }
   },
   "source": [
    "### Pipelines"
   ]
  },
  {
   "cell_type": "code",
   "execution_count": 9,
   "metadata": {
    "ExecuteTime": {
     "end_time": "2018-12-02T02:01:32.588324Z",
     "start_time": "2018-12-02T02:01:32.570884Z"
    },
    "slideshow": {
     "slide_type": "fragment"
    }
   },
   "outputs": [
    {
     "data": {
      "text/html": [
       "<div>\n",
       "<style scoped>\n",
       "    .dataframe tbody tr th:only-of-type {\n",
       "        vertical-align: middle;\n",
       "    }\n",
       "\n",
       "    .dataframe tbody tr th {\n",
       "        vertical-align: top;\n",
       "    }\n",
       "\n",
       "    .dataframe thead th {\n",
       "        text-align: right;\n",
       "    }\n",
       "</style>\n",
       "<table border=\"1\" class=\"dataframe\">\n",
       "  <thead>\n",
       "    <tr style=\"text-align: right;\">\n",
       "      <th></th>\n",
       "      <th>Model</th>\n",
       "      <th>Vectorizer</th>\n",
       "      <th>Accuracy</th>\n",
       "      <th>Confussion_Matrix</th>\n",
       "    </tr>\n",
       "    <tr>\n",
       "      <th>Strategy</th>\n",
       "      <th></th>\n",
       "      <th></th>\n",
       "      <th></th>\n",
       "      <th></th>\n",
       "    </tr>\n",
       "  </thead>\n",
       "  <tbody>\n",
       "    <tr>\n",
       "      <th>LogisticRegression -- CountVectorizer</th>\n",
       "      <td>LogisticRegression</td>\n",
       "      <td>CountVectorizer</td>\n",
       "      <td>0.768100</td>\n",
       "      <td>[[2227, 109, 92, 253, 168], [176, 581, 238, 12...</td>\n",
       "    </tr>\n",
       "    <tr>\n",
       "      <th>LogisticRegression -- TfidfVectorizer</th>\n",
       "      <td>LogisticRegression</td>\n",
       "      <td>TfidfVectorizer</td>\n",
       "      <td>0.759866</td>\n",
       "      <td>[[2261, 71, 144, 159, 214], [197, 431, 292, 76...</td>\n",
       "    </tr>\n",
       "    <tr>\n",
       "      <th>MultinomialNB -- CountVectorizer</th>\n",
       "      <td>MultinomialNB</td>\n",
       "      <td>CountVectorizer</td>\n",
       "      <td>0.724520</td>\n",
       "      <td>[[2566, 28, 77, 54, 124], [542, 360, 284, 42, ...</td>\n",
       "    </tr>\n",
       "    <tr>\n",
       "      <th>MultinomialNB -- TfidfVectorizer</th>\n",
       "      <td>MultinomialNB</td>\n",
       "      <td>TfidfVectorizer</td>\n",
       "      <td>0.625008</td>\n",
       "      <td>[[1109, 14, 1290, 4, 432], [36, 52, 957, 1, 61...</td>\n",
       "    </tr>\n",
       "    <tr>\n",
       "      <th>LinearSVC -- CountVectorizer</th>\n",
       "      <td>LinearSVC</td>\n",
       "      <td>CountVectorizer</td>\n",
       "      <td>0.731615</td>\n",
       "      <td>[[2089, 156, 132, 313, 159], [164, 691, 218, 1...</td>\n",
       "    </tr>\n",
       "    <tr>\n",
       "      <th>LinearSVC -- TfidfVectorizer</th>\n",
       "      <td>LinearSVC</td>\n",
       "      <td>TfidfVectorizer</td>\n",
       "      <td>0.781782</td>\n",
       "      <td>[[2281, 105, 108, 213, 142], [165, 662, 237, 1...</td>\n",
       "    </tr>\n",
       "  </tbody>\n",
       "</table>\n",
       "</div>"
      ],
      "text/plain": [
       "                                                    Model       Vectorizer  \\\n",
       "Strategy                                                                     \n",
       "LogisticRegression -- CountVectorizer  LogisticRegression  CountVectorizer   \n",
       "LogisticRegression -- TfidfVectorizer  LogisticRegression  TfidfVectorizer   \n",
       "MultinomialNB -- CountVectorizer            MultinomialNB  CountVectorizer   \n",
       "MultinomialNB -- TfidfVectorizer            MultinomialNB  TfidfVectorizer   \n",
       "LinearSVC -- CountVectorizer                    LinearSVC  CountVectorizer   \n",
       "LinearSVC -- TfidfVectorizer                    LinearSVC  TfidfVectorizer   \n",
       "\n",
       "                                       Accuracy  \\\n",
       "Strategy                                          \n",
       "LogisticRegression -- CountVectorizer  0.768100   \n",
       "LogisticRegression -- TfidfVectorizer  0.759866   \n",
       "MultinomialNB -- CountVectorizer       0.724520   \n",
       "MultinomialNB -- TfidfVectorizer       0.625008   \n",
       "LinearSVC -- CountVectorizer           0.731615   \n",
       "LinearSVC -- TfidfVectorizer           0.781782   \n",
       "\n",
       "                                                                       Confussion_Matrix  \n",
       "Strategy                                                                                  \n",
       "LogisticRegression -- CountVectorizer  [[2227, 109, 92, 253, 168], [176, 581, 238, 12...  \n",
       "LogisticRegression -- TfidfVectorizer  [[2261, 71, 144, 159, 214], [197, 431, 292, 76...  \n",
       "MultinomialNB -- CountVectorizer       [[2566, 28, 77, 54, 124], [542, 360, 284, 42, ...  \n",
       "MultinomialNB -- TfidfVectorizer       [[1109, 14, 1290, 4, 432], [36, 52, 957, 1, 61...  \n",
       "LinearSVC -- CountVectorizer           [[2089, 156, 132, 313, 159], [164, 691, 218, 1...  \n",
       "LinearSVC -- TfidfVectorizer           [[2281, 105, 108, 213, 142], [165, 662, 237, 1...  "
      ]
     },
     "execution_count": 9,
     "metadata": {},
     "output_type": "execute_result"
    }
   ],
   "source": [
    "methods"
   ]
  },
  {
   "cell_type": "code",
   "execution_count": 10,
   "metadata": {
    "slideshow": {
     "slide_type": "slide"
    }
   },
   "outputs": [
    {
     "data": {
      "text/plain": [
       "<matplotlib.axes._subplots.AxesSubplot at 0x1a2c7bf8d0>"
      ]
     },
     "execution_count": 10,
     "metadata": {},
     "output_type": "execute_result"
    },
    {
     "data": {
      "image/png": "[encoded data removed]",
      "text/plain": [
       "<Figure size 1152x576 with 1 Axes>"
      ]
     },
     "metadata": {
      "needs_background": "light"
     },
     "output_type": "display_data"
    }
   ],
   "source": [
    "#%matplotlib inline\n",
    "methods.plot(figsize=(16, 8),kind='bar',title='Accuracy', rot=60, ylim=(0.5,1),colormap='tab10')"
   ]
  },
  {
   "cell_type": "code",
   "execution_count": 11,
   "metadata": {
    "slideshow": {
     "slide_type": "slide"
    }
   },
   "outputs": [
    {
     "data": {
      "image/png": "[encoded data removed]",
      "text/plain": [
       "<Figure size 1152x576 with 12 Axes>"
      ]
     },
     "metadata": {
      "needs_background": "light"
     },
     "output_type": "display_data"
    }
   ],
   "source": [
    "#%matplotlib inline\n",
    "methods = methods.reset_index()\n",
    "fig = plt.figure(figsize=(16, 8))\n",
    "fig.subplots_adjust(hspace=0.5, wspace=0.5)\n",
    "for i in range(1, 7):\n",
    "    ax = fig.add_subplot(2, 3, i)\n",
    "    sns.heatmap(methods[\"Confussion_Matrix\"].values[i-1], annot=True, fmt = 'd', ax = ax, cmap=\"Blues\");\n",
    "    ax.set_xlabel('Predicted labels'); ax.set_ylabel('True labels'); \n",
    "    ax.set_title(f'Confusion Matrix {methods[\"Strategy\"].values[i-1]}');\n",
    "    ax.xaxis.set_ticklabels(df_clean.genre.unique(), rotation=60 ); \n",
    "    ax.yaxis.set_ticklabels(df_clean.genre.unique(), rotation=60 );"
   ]
  },
  {
   "cell_type": "markdown",
   "metadata": {
    "slideshow": {
     "slide_type": "notes"
    }
   },
   "source": [
    "We know LinearSVC with TfidfVectorizer is the best.\n",
    "Go back and do manual grid search."
   ]
  },
  {
   "cell_type": "markdown",
   "metadata": {
    "slideshow": {
     "slide_type": "slide"
    }
   },
   "source": [
    "### Grid Search"
   ]
  },
  {
   "cell_type": "code",
   "execution_count": 12,
   "metadata": {
    "ExecuteTime": {
     "end_time": "2018-12-02T02:17:49.284942Z",
     "start_time": "2018-12-02T02:17:49.282117Z"
    },
    "slideshow": {
     "slide_type": "fragment"
    }
   },
   "outputs": [],
   "source": [
    "grid = {'svc__loss': ['hinge', 'squared_hinge']}\n",
    "\n",
    "gs = GridSearchCV(pipe_svc_tf,\n",
    "                  param_grid=grid,\n",
    "                  scoring='accuracy')"
   ]
  },
  {
   "cell_type": "code",
   "execution_count": 13,
   "metadata": {
    "ExecuteTime": {
     "start_time": "2018-12-02T02:17:50.087Z"
    },
    "slideshow": {
     "slide_type": "skip"
    }
   },
   "outputs": [
    {
     "data": {
      "text/plain": [
       "GridSearchCV(cv='warn', error_score='raise-deprecating',\n",
       "       estimator=Pipeline(memory=None,\n",
       "     steps=[('tfidf', TfidfVectorizer(analyzer='word', binary=False, decode_error='strict',\n",
       "        dtype=<class 'numpy.float64'>, encoding='utf-8', input='content',\n",
       "        lowercase=False, max_df=1.0, max_features=None, min_df=1,\n",
       "        ngram_range=(1, 1), norm='l2', preprocessor=None, smooth_idf=True...ax_iter=1000,\n",
       "     multi_class='ovr', penalty='l2', random_state=None, tol=0.0001,\n",
       "     verbose=0))]),\n",
       "       fit_params=None, iid='warn', n_jobs=None,\n",
       "       param_grid={'svc__loss': ['hinge', 'squared_hinge']},\n",
       "       pre_dispatch='2*n_jobs', refit=True, return_train_score='warn',\n",
       "       scoring='accuracy', verbose=0)"
      ]
     },
     "execution_count": 13,
     "metadata": {},
     "output_type": "execute_result"
    }
   ],
   "source": [
    "gs.fit(train_lyrics, train_genre)"
   ]
  },
  {
   "cell_type": "code",
   "execution_count": 14,
   "metadata": {
    "slideshow": {
     "slide_type": "skip"
    }
   },
   "outputs": [
    {
     "data": {
      "text/plain": [
       "{'mean_fit_time': array([20.27389606, 10.05352402]),\n",
       " 'std_fit_time': array([1.2627436 , 0.95058361]),\n",
       " 'mean_score_time': array([3.25944042, 3.1356039 ]),\n",
       " 'std_score_time': array([0.18695786, 0.02035713]),\n",
       " 'param_svc__loss': masked_array(data=['hinge', 'squared_hinge'],\n",
       "              mask=[False, False],\n",
       "        fill_value='?',\n",
       "             dtype=object),\n",
       " 'params': [{'svc__loss': 'hinge'}, {'svc__loss': 'squared_hinge'}],\n",
       " 'split0_test_score': array([0.76764846, 0.77244656]),\n",
       " 'split1_test_score': array([0.76858758, 0.77234073]),\n",
       " 'split2_test_score': array([0.76690265, 0.77108376]),\n",
       " 'mean_test_score': array([0.76771292, 0.77195705]),\n",
       " 'std_test_score': array([0.00068937, 0.00061898]),\n",
       " 'rank_test_score': array([2, 1], dtype=int32),\n",
       " 'split0_train_score': array([0.88564234, 0.9411583 ]),\n",
       " 'split1_train_score': array([0.88935079, 0.94272751]),\n",
       " 'split2_train_score': array([0.88614931, 0.94109124]),\n",
       " 'mean_train_score': array([0.88704748, 0.94165902]),\n",
       " 'std_train_score': array([0.00164178, 0.00075603])}"
      ]
     },
     "execution_count": 14,
     "metadata": {},
     "output_type": "execute_result"
    }
   ],
   "source": [
    "gs.cv_results_"
   ]
  },
  {
   "cell_type": "code",
   "execution_count": 15,
   "metadata": {
    "ExecuteTime": {
     "start_time": "2018-12-02T02:18:41.956Z"
    },
    "slideshow": {
     "slide_type": "skip"
    }
   },
   "outputs": [
    {
     "data": {
      "text/plain": [
       "TfidfVectorizer(analyzer='word', binary=False, decode_error='strict',\n",
       "        dtype=<class 'numpy.float64'>, encoding='utf-8', input='content',\n",
       "        lowercase=False, max_df=1.0, max_features=None, min_df=1,\n",
       "        ngram_range=(1, 1), norm='l2', preprocessor=None, smooth_idf=True,\n",
       "        stop_words='english', strip_accents=None, sublinear_tf=False,\n",
       "        token_pattern='(?u)\\\\b\\\\w\\\\w+\\\\b', tokenizer=None, use_idf=True,\n",
       "        vocabulary=None)"
      ]
     },
     "execution_count": 15,
     "metadata": {},
     "output_type": "execute_result"
    }
   ],
   "source": [
    "gs.best_estimator_.steps[0][1]  # best model"
   ]
  },
  {
   "cell_type": "code",
   "execution_count": 16,
   "metadata": {
    "slideshow": {
     "slide_type": "fragment"
    }
   },
   "outputs": [],
   "source": [
    "pred = gs.predict(test_lyrics)"
   ]
  },
  {
   "cell_type": "code",
   "execution_count": 33,
   "metadata": {
    "slideshow": {
     "slide_type": "fragment"
    }
   },
   "outputs": [
    {
     "name": "stdout",
     "output_type": "stream",
     "text": [
      "Accuracy: 0.7818\n"
     ]
    }
   ],
   "source": [
    "accuracy = accuracy_score(pred, test_genre)\n",
    "print(f\"Accuracy: {accuracy:.4f}\")"
   ]
  },
  {
   "cell_type": "markdown",
   "metadata": {
    "slideshow": {
     "slide_type": "slide"
    }
   },
   "source": [
    "# Random Forest with Feature Union"
   ]
  },
  {
   "cell_type": "code",
   "execution_count": 30,
   "metadata": {
    "ExecuteTime": {
     "end_time": "2018-12-06T22:53:59.680926Z",
     "start_time": "2018-12-06T22:53:46.658522Z"
    },
    "slideshow": {
     "slide_type": "skip"
    }
   },
   "outputs": [],
   "source": [
    "df_sample = df.sample(n=100000) # sample because it takes too long to run\n",
    "\n",
    "df_sample = df_sample[pd.notnull(df_sample['lyrics'])]\n",
    "df_sample = df_sample[df_sample['genre'] != 'Not Available']\n",
    "df_sample = df_sample[df_sample['genre'] != 'Other']\n",
    "df_sample['lyrics_clean'] = df_sample.lyrics.apply(clean_lyrics)\n",
    "\n",
    "df_clean = df_sample[(df_sample.genre == 'Country') | (df_sample.genre == 'Metal') |\n",
    "              (df_sample.genre == 'Hip-Hop') | (df_sample.genre == 'Jazz') | (df_sample.genre == 'Electronic')]"
   ]
  },
  {
   "cell_type": "code",
   "execution_count": 31,
   "metadata": {
    "ExecuteTime": {
     "end_time": "2018-12-06T22:54:05.789424Z",
     "start_time": "2018-12-06T22:54:05.786253Z"
    },
    "slideshow": {
     "slide_type": "skip"
    }
   },
   "outputs": [],
   "source": [
    "X, y = df_clean['lyrics'], df_clean['genre']"
   ]
  },
  {
   "cell_type": "code",
   "execution_count": 34,
   "metadata": {
    "ExecuteTime": {
     "end_time": "2018-12-06T22:54:21.327741Z",
     "start_time": "2018-12-06T22:54:21.316927Z"
    },
    "slideshow": {
     "slide_type": "skip"
    }
   },
   "outputs": [],
   "source": [
    "X_train, X_test, y_train, y_test = train_test_split(X, y, test_size=0.2)"
   ]
  },
  {
   "cell_type": "code",
   "execution_count": 37,
   "metadata": {
    "ExecuteTime": {
     "end_time": "2018-12-06T22:54:33.304594Z",
     "start_time": "2018-12-06T22:54:33.298340Z"
    },
    "slideshow": {
     "slide_type": "skip"
    }
   },
   "outputs": [],
   "source": [
    "class Polarity(BaseEstimator, TransformerMixin):\n",
    "    \"\"\"Takes in the lyrics column and outputs polarity score\"\"\"\n",
    "\n",
    "    def __init__(self):\n",
    "        pass\n",
    "\n",
    "    def sent_score(self, song):\n",
    "        \"\"\"Helper code to compute sentiment\"\"\"\n",
    "        sid = SentimentIntensityAnalyzer()\n",
    "        if type(song) is str:\n",
    "            return sid.polarity_scores(\", \".join(song.split(\"\\n\")))['compound']\n",
    "        else:\n",
    "            return 0\n",
    "\n",
    "    def transform(self, X, y=None):\n",
    "        \"\"\"Transform function of this feature extractor\"\"\"\n",
    "        return np.array(X.apply(self.sent_score)).reshape(-1, 1)\n",
    "\n",
    "    def fit(self, X, y=None):\n",
    "        \"\"\"Returns `self` unless there is other functions in train and test\"\"\"\n",
    "        return self"
   ]
  },
  {
   "cell_type": "code",
   "execution_count": 38,
   "metadata": {
    "ExecuteTime": {
     "end_time": "2018-12-06T22:54:36.454161Z",
     "start_time": "2018-12-06T22:54:36.449314Z"
    },
    "slideshow": {
     "slide_type": "skip"
    }
   },
   "outputs": [],
   "source": [
    "class AverageWordLength(BaseEstimator, TransformerMixin):\n",
    "    \"\"\"Takes in the lyrics column and outputs average word length\"\"\"\n",
    "\n",
    "    def __init__(self):\n",
    "        pass\n",
    "\n",
    "    def average_word_length(self, song):\n",
    "        \"\"\"Helper code to compute average word length\"\"\"\n",
    "        return np.mean([len(w) for w in clean_lyrics(song).split(\" \")])\n",
    "\n",
    "    def transform(self, X, y=None):\n",
    "        \"\"\"Transform function of this feature extractor\"\"\"\n",
    "        return np.array(X.apply(self.average_word_length)).reshape(-1, 1)\n",
    "\n",
    "    def fit(self, X, y=None):\n",
    "        \"\"\"Returns `self` unless there is other functions in train and test\"\"\"\n",
    "        return self"
   ]
  },
  {
   "cell_type": "code",
   "execution_count": 39,
   "metadata": {
    "ExecuteTime": {
     "end_time": "2018-12-06T22:54:37.622373Z",
     "start_time": "2018-12-06T22:54:37.601325Z"
    },
    "slideshow": {
     "slide_type": "fragment"
    }
   },
   "outputs": [],
   "source": [
    "# features:\n",
    "countVectorizer = ('vect', CountVectorizer(\n",
    "    stop_words='english', lowercase=True, analyzer='word'))\n",
    "tfidf = ('tfidf', TfidfVectorizer())\n",
    "polarity = ('polarity', Polarity())\n",
    "avg_len = ('avg_len', AverageWordLength())\n",
    "\n",
    "# pipe this features into the pipeline and FeatureUnion\n",
    "pipeline = Pipeline([\n",
    "    ('feats', FeatureUnion([avg_len, polarity, countVectorizer])),\n",
    "    ('clf', RandomForestClassifier(n_estimators=200, n_jobs=-1))\n",
    "])"
   ]
  },
  {
   "cell_type": "code",
   "execution_count": 40,
   "metadata": {
    "ExecuteTime": {
     "end_time": "2018-12-06T23:06:27.259112Z",
     "start_time": "2018-12-06T22:54:39.026576Z"
    },
    "slideshow": {
     "slide_type": "skip"
    }
   },
   "outputs": [
    {
     "data": {
      "text/plain": [
       "0.7467434110875493"
      ]
     },
     "execution_count": 40,
     "metadata": {},
     "output_type": "execute_result"
    }
   ],
   "source": [
    "pipeline.fit(X_train, y_train)\n",
    "pred = pipeline.predict(X_test)"
   ]
  },
  {
   "cell_type": "code",
   "execution_count": 43,
   "metadata": {
    "ExecuteTime": {
     "end_time": "2018-12-06T23:17:11.306111Z",
     "start_time": "2018-12-06T23:17:11.287443Z"
    },
    "slideshow": {
     "slide_type": "slide"
    }
   },
   "outputs": [
    {
     "name": "stdout",
     "output_type": "stream",
     "text": [
      "Accuracy: 0.7467\n"
     ]
    }
   ],
   "source": [
    "accuracy_score(pred, y_test)\n",
    "print(f\"Accuracy: {accuracy_score(pred, y_test):.4f}\")"
   ]
  },
  {
   "cell_type": "markdown",
   "metadata": {
    "slideshow": {
     "slide_type": "slide"
    }
   },
   "source": [
    "# 🏆 Winner supervised model: \n",
    "\n",
    "`LinearSVC() with TfidfVectorizer()`"
   ]
  },
  {
   "cell_type": "markdown",
   "metadata": {
    "slideshow": {
     "slide_type": "slide"
    }
   },
   "source": [
    "### 🥊 Unsupervised models\n",
    "\n",
    "- Pipelines: \n",
    "   - Vectorizers: CountVectorizer, TfidfVectorizer\n",
    "   - Estimators: MultinomialNB, LogisticRegression, LinearSVC\n",
    "\n",
    "- GridSearch"
   ]
  },
  {
   "cell_type": "code",
   "execution_count": 28,
   "metadata": {
    "ExecuteTime": {
     "end_time": "2018-12-06T22:41:06.608599Z",
     "start_time": "2018-12-06T22:40:59.359569Z"
    },
    "slideshow": {
     "slide_type": "skip"
    }
   },
   "outputs": [],
   "source": [
    "# we create the vectorizer\n",
    "tfidf = TfidfVectorizer(stop_words='english',\n",
    "                       tokenizer= lambda x: x.split())\n",
    "\n",
    "# we fit the train data\n",
    "tf_features = tfidf.fit_transform(train.lyrics_clean)\n",
    "\n",
    "# and we transform the test data\n",
    "test_features = tfidf.transform(test.lyrics_clean)"
   ]
  },
  {
   "cell_type": "code",
   "execution_count": 42,
   "metadata": {
    "ExecuteTime": {
     "end_time": "2018-12-06T23:11:29.467703Z",
     "start_time": "2018-12-06T23:11:29.465422Z"
    },
    "slideshow": {
     "slide_type": "fragment"
    }
   },
   "outputs": [],
   "source": [
    "# now, we fit the model\n",
    "true_k = 11\n",
    "model = KMeans(n_clusters=true_k, init='k-means++', max_iter=100, n_init=1)\n",
    "model.fit(tf_features)\n",
    "\n",
    "print(\"Top terms per cluster:\")\n",
    "order_centroids = model.cluster_centers_.argsort()[:, ::-1]\n",
    "terms = tfidf.get_feature_names()\n",
    "for i in range(true_k):\n",
    "    print(\"Cluster %d:\" % i),\n",
    "    for ind in order_centroids[i, :10]:\n",
    "        print(' %s' % terms[ind]),\n",
    "    print\n",
    "\n",
    "print(\"\\n\")\n",
    "print(\"Prediction\")"
   ]
  },
  {
   "cell_type": "markdown",
   "metadata": {
    "slideshow": {
     "slide_type": "slide"
    }
   },
   "source": [
    "# Because this is an unsupervied algorithm, it is searching for the underlying structure of the data. The most important feature appears to be language."
   ]
  },
  {
   "cell_type": "markdown",
   "metadata": {
    "ExecuteTime": {
     "end_time": "2018-12-06T23:06:27.266109Z",
     "start_time": "2018-12-06T23:06:27.261221Z"
    },
    "slideshow": {
     "slide_type": "slide"
    }
   },
   "source": [
    "<center>\n",
    "    <img src=\"KMeans_Result.png\">\n",
    "</center> "
   ]
  },
  {
   "cell_type": "markdown",
   "metadata": {
    "slideshow": {
     "slide_type": "slide"
    }
   },
   "source": [
    "# Recap ✍️"
   ]
  },
  {
   "cell_type": "code",
   "execution_count": null,
   "metadata": {},
   "outputs": [],
   "source": []
  }
 ],
 "metadata": {
  "celltoolbar": "Slideshow",
  "kernelspec": {
   "display_name": "Python 3",
   "language": "python",
   "name": "python3"
  },
  "language_info": {
   "codemirror_mode": {
    "name": "ipython",
    "version": 3
   },
   "file_extension": ".py",
   "mimetype": "text/x-python",
   "name": "python",
   "nbconvert_exporter": "python",
   "pygments_lexer": "ipython3",
   "version": "3.6.6"
  }
 },
 "nbformat": 4,
 "nbformat_minor": 2
}
