{
 "cells": [
  {
   "cell_type": "markdown",
   "metadata": {
    "slideshow": {
     "slide_type": "slide"
    }
   },
   "source": [
    "# 🎶 Predicting Lyrics\n",
    "<hr>\n",
    "<br>\n",
    "<b> Group name: <strike>AA</strike> <i>My Machine Learning Romance</i> </b> <br>\n",
    "- Fiorella Tenorio <br>\n",
    "- Katja Wittfoth <br>\n",
    "- Rebecca Reilly <br>\n",
    "- Victoria Suarez <br>\n",
    "- Viviana Márquez <br>"
   ]
  },
  {
   "cell_type": "markdown",
   "metadata": {
    "slideshow": {
     "slide_type": "fragment"
    }
   },
   "source": [
    "<br>\n",
    "<img src='USF.png', style=\"width:200px;\" align=\"left\">\n",
    "Friday, December 7th, 2018. <br>\n",
    "<b> MSDS 621 </b> - Introduction to Machine Learning "
   ]
  },
  {
   "cell_type": "markdown",
   "metadata": {
    "slideshow": {
     "slide_type": "slide"
    }
   },
   "source": [
    "## Goal \n",
    "<center>\n",
    "    <img src=\"are you smarter.png\">\n",
    "    <big>Predict genre based on lyrics</big><br><br>\n",
    "    🥊 Supervised <i>vs.</i> Unspervised  <i>vs.</i> Humans 🥊\n",
    "</center> "
   ]
  },
  {
   "cell_type": "markdown",
   "metadata": {
    "slideshow": {
     "slide_type": "slide"
    }
   },
   "source": [
    "## Workflow Pipeline\n",
    "<center>\n",
    "    <img src=\"workflow2.png\" style=\"height:500px\">\n",
    "</center> "
   ]
  },
  {
   "cell_type": "code",
   "execution_count": 2,
   "metadata": {
    "ExecuteTime": {
     "end_time": "2018-12-02T01:40:31.288652Z",
     "start_time": "2018-12-02T01:40:29.845074Z"
    },
    "slideshow": {
     "slide_type": "skip"
    }
   },
   "outputs": [
    {
     "ename": "ModuleNotFoundError",
     "evalue": "No module named 'mlxtend'",
     "output_type": "error",
     "traceback": [
      "\u001b[0;31m---------------------------------------------------------------------------\u001b[0m",
      "\u001b[0;31mModuleNotFoundError\u001b[0m                       Traceback (most recent call last)",
      "\u001b[0;32m<ipython-input-2-a2c7b469470a>\u001b[0m in \u001b[0;36m<module>\u001b[0;34m\u001b[0m\n\u001b[1;32m     41\u001b[0m \u001b[0;32mfrom\u001b[0m \u001b[0msklearn\u001b[0m\u001b[0;34m.\u001b[0m\u001b[0mensemble\u001b[0m \u001b[0;32mimport\u001b[0m \u001b[0mVotingClassifier\u001b[0m\u001b[0;34m\u001b[0m\u001b[0m\n\u001b[1;32m     42\u001b[0m \u001b[0;32mfrom\u001b[0m \u001b[0msklearn\u001b[0m\u001b[0;34m.\u001b[0m\u001b[0mensemble\u001b[0m \u001b[0;32mimport\u001b[0m \u001b[0mGradientBoostingClassifier\u001b[0m\u001b[0;34m\u001b[0m\u001b[0m\n\u001b[0;32m---> 43\u001b[0;31m \u001b[0;32mfrom\u001b[0m \u001b[0mmlxtend\u001b[0m\u001b[0;34m.\u001b[0m\u001b[0mclassifier\u001b[0m \u001b[0;32mimport\u001b[0m \u001b[0mEnsembleVoteClassifier\u001b[0m\u001b[0;34m\u001b[0m\u001b[0m\n\u001b[0m\u001b[1;32m     44\u001b[0m \u001b[0;34m\u001b[0m\u001b[0m\n\u001b[1;32m     45\u001b[0m \u001b[0;32mfrom\u001b[0m \u001b[0msklearn\u001b[0m\u001b[0;34m.\u001b[0m\u001b[0mmetrics\u001b[0m \u001b[0;32mimport\u001b[0m \u001b[0maccuracy_score\u001b[0m\u001b[0;34m,\u001b[0m \u001b[0mf1_score\u001b[0m\u001b[0;34m,\u001b[0m \u001b[0mrecall_score\u001b[0m\u001b[0;34m,\u001b[0m \u001b[0mprecision_score\u001b[0m\u001b[0;34m,\u001b[0m \u001b[0mroc_auc_score\u001b[0m\u001b[0;34m,\u001b[0m \u001b[0mroc_curve\u001b[0m\u001b[0;34m\u001b[0m\u001b[0m\n",
      "\u001b[0;31mModuleNotFoundError\u001b[0m: No module named 'mlxtend'"
     ]
    }
   ],
   "source": [
    "# Libraries\n",
    "import warnings\n",
    "import numpy as np\n",
    "import pandas as pd\n",
    "import sklearn\n",
    "import matplotlib.pyplot as plt\n",
    "import seaborn as sns\n",
    "import string\n",
    "import re\n",
    "\n",
    "from sklearn.model_selection import train_test_split\n",
    "from sklearn.feature_extraction.text import CountVectorizer\n",
    "from sklearn.feature_extraction.text import TfidfTransformer\n",
    "from sklearn.pipeline import Pipeline\n",
    "from sklearn.naive_bayes import MultinomialNB\n",
    "from sklearn.metrics import accuracy_score\n",
    "from sklearn.metrics import confusion_matrix\n",
    "from sklearn.feature_extraction import stop_words\n",
    "from sklearn.model_selection import GridSearchCV\n",
    "from sklearn.base import BaseEstimator\n",
    "\n",
    "\n",
    "import glob\n",
    "import os\n",
    "import pandas as pd\n",
    "import matplotlib.pyplot as plt\n",
    "import seaborn as sns\n",
    "\n",
    "from sklearn.naive_bayes import MultinomialNB\n",
    "from sklearn.linear_model import LogisticRegression\n",
    "from sklearn.svm import LinearSVC\n",
    "\n",
    "from sklearn.feature_extraction.text import TfidfVectorizer\n",
    "from sklearn.feature_extraction.text import CountVectorizer\n",
    "\n",
    "from sklearn.tree import DecisionTreeClassifier\n",
    "from sklearn.tree import ExtraTreeClassifier\n",
    "\n",
    "from sklearn.ensemble import AdaBoostClassifier\n",
    "from sklearn.ensemble import RandomForestClassifier\n",
    "from sklearn.ensemble import VotingClassifier\n",
    "from sklearn.ensemble import GradientBoostingClassifier\n",
    "\n",
    "from sklearn.metrics import accuracy_score, f1_score, recall_score, precision_score, roc_auc_score, roc_curve\n",
    "from sklearn.metrics import confusion_matrix\n",
    "from sklearn.model_selection import cross_val_score\n",
    "\n",
    "\n",
    "import numpy as np\n",
    "from sklearn.pipeline import Pipeline\n",
    "from sklearn.model_selection import learning_curve\n",
    "from sklearn.pipeline import make_pipeline\n",
    "import seaborn as sns\n",
    "sns.set()\n",
    "\n",
    "warnings.filterwarnings('ignore')"
   ]
  },
  {
   "cell_type": "code",
   "execution_count": 4,
   "metadata": {
    "ExecuteTime": {
     "end_time": "2018-12-02T01:41:00.767824Z",
     "start_time": "2018-12-02T01:40:58.211953Z"
    },
    "slideshow": {
     "slide_type": "skip"
    }
   },
   "outputs": [],
   "source": [
    "# Read data\n",
    "df = pd.read_csv('../lyrics.csv')"
   ]
  },
  {
   "cell_type": "code",
   "execution_count": 5,
   "metadata": {
    "ExecuteTime": {
     "end_time": "2018-12-02T01:42:16.613306Z",
     "start_time": "2018-12-02T01:41:44.324423Z"
    },
    "slideshow": {
     "slide_type": "skip"
    }
   },
   "outputs": [],
   "source": [
    "# Clean data\n",
    "def clean_lyrics(text):\n",
    "    text = re.sub('\\n', ' ', text)  # removes new lines\n",
    "    text = re.sub('\\d', '', text)  # removes numbers\n",
    "    text = re.sub('\\t', '', text)  # removes tabs\n",
    "    text = re.sub('[^A-Za-z ]', '', text)  # removes special character\n",
    "    text = re.sub('\\[Verse\\s*\\d*:]', ' ', text)  # remove verse indicators\n",
    "    text = re.sub('\\s+', ' ', text)\n",
    "    words = text.split(\" \")\n",
    "    words = [w for w in words if len(w) > 2]  # removes a, an, to, at, be, ...\n",
    "    return ' '.join(words)\n",
    "\n",
    "df = df[pd.notnull(df['lyrics'])]\n",
    "df = df[df['genre'] != 'Not Available']\n",
    "df = df[df['genre'] != 'Other']\n",
    "df['lyrics_clean'] = df.lyrics.apply(clean_lyrics)\n",
    "\n",
    "df_clean = df[(df.genre == 'Country') | (df.genre == 'Metal') |\n",
    "              (df.genre == 'Hip-Hop') | (df.genre == 'Jazz') | (df.genre == 'Electronic')]\n",
    "\n",
    "df_clean = df_clean.sample(frac=1)  # shuffle"
   ]
  },
  {
   "cell_type": "markdown",
   "metadata": {
    "slideshow": {
     "slide_type": "slide"
    }
   },
   "source": [
    "## 📊 1. Get data and pre-process\n",
    "\n",
    "- 380,000+ lyrics  from MetroLyrics in <a href=\"https://www.kaggle.com/gyani95/380000-lyrics-from-metrolyrics\">Kaggle</a>\n",
    "\n",
    "#### 🛁 Cleaning \n",
    "- Remove: `Null` lyrics, \"Not available\" genre, punctuation, numbers, symbols, spaces, stop words.\n",
    "- Shuffle data.\n",
    "- **Genres**: Country, Metal, Hip-Hop, Jazz, Electronic."
   ]
  },
  {
   "cell_type": "code",
   "execution_count": 4,
   "metadata": {
    "slideshow": {
     "slide_type": "fragment"
    }
   },
   "outputs": [
    {
     "data": {
      "text/html": [
       "<div>\n",
       "<style scoped>\n",
       "    .dataframe tbody tr th:only-of-type {\n",
       "        vertical-align: middle;\n",
       "    }\n",
       "\n",
       "    .dataframe tbody tr th {\n",
       "        vertical-align: top;\n",
       "    }\n",
       "\n",
       "    .dataframe thead th {\n",
       "        text-align: right;\n",
       "    }\n",
       "</style>\n",
       "<table border=\"1\" class=\"dataframe\">\n",
       "  <thead>\n",
       "    <tr style=\"text-align: right;\">\n",
       "      <th></th>\n",
       "      <th>index</th>\n",
       "      <th>song</th>\n",
       "      <th>year</th>\n",
       "      <th>artist</th>\n",
       "      <th>genre</th>\n",
       "      <th>lyrics</th>\n",
       "      <th>lyrics_clean</th>\n",
       "    </tr>\n",
       "  </thead>\n",
       "  <tbody>\n",
       "    <tr>\n",
       "      <th>346876</th>\n",
       "      <td>346876</td>\n",
       "      <td>secret-track</td>\n",
       "      <td>2014</td>\n",
       "      <td>childish-gambino</td>\n",
       "      <td>Hip-Hop</td>\n",
       "      <td>No matter what you say or what you do\\nWhen I'...</td>\n",
       "      <td>matter what you say what you When I'm alone, I...</td>\n",
       "    </tr>\n",
       "    <tr>\n",
       "      <th>286644</th>\n",
       "      <td>286644</td>\n",
       "      <td>futuristic-space-doubleswee-rap-in-the-galaxy</td>\n",
       "      <td>2014</td>\n",
       "      <td>doubleswee</td>\n",
       "      <td>Hip-Hop</td>\n",
       "      <td>You, Doubleswee\\nIn space\\nWhat up guys\\nYeah ...</td>\n",
       "      <td>You, Doubleswee space What guys Yeah it's Chil...</td>\n",
       "    </tr>\n",
       "    <tr>\n",
       "      <th>166706</th>\n",
       "      <td>166706</td>\n",
       "      <td>just-one-of-those-things</td>\n",
       "      <td>2014</td>\n",
       "      <td>django-reinhardt</td>\n",
       "      <td>Jazz</td>\n",
       "      <td>It was just one of those things\\nJust one of t...</td>\n",
       "      <td>was just one those things Just one those crazy...</td>\n",
       "    </tr>\n",
       "    <tr>\n",
       "      <th>336273</th>\n",
       "      <td>336273</td>\n",
       "      <td>gimme-half</td>\n",
       "      <td>2009</td>\n",
       "      <td>the-devil-wears-prada</td>\n",
       "      <td>Metal</td>\n",
       "      <td>Keep this on your mind,\\nKeep it within your e...</td>\n",
       "      <td>Keep this your mind, Keep within your eyelids....</td>\n",
       "    </tr>\n",
       "    <tr>\n",
       "      <th>53140</th>\n",
       "      <td>53140</td>\n",
       "      <td>horus-rises</td>\n",
       "      <td>2010</td>\n",
       "      <td>at-the-throne-of-judgement</td>\n",
       "      <td>Metal</td>\n",
       "      <td>Rise.\\nA sentence given, to the afflicted livi...</td>\n",
       "      <td>Rise. sentence given, the afflicted living, it...</td>\n",
       "    </tr>\n",
       "  </tbody>\n",
       "</table>\n",
       "</div>"
      ],
      "text/plain": [
       "         index                                           song  year  \\\n",
       "346876  346876                                   secret-track  2014   \n",
       "286644  286644  futuristic-space-doubleswee-rap-in-the-galaxy  2014   \n",
       "166706  166706                       just-one-of-those-things  2014   \n",
       "336273  336273                                     gimme-half  2009   \n",
       "53140    53140                                    horus-rises  2010   \n",
       "\n",
       "                            artist    genre  \\\n",
       "346876            childish-gambino  Hip-Hop   \n",
       "286644                  doubleswee  Hip-Hop   \n",
       "166706            django-reinhardt     Jazz   \n",
       "336273       the-devil-wears-prada    Metal   \n",
       "53140   at-the-throne-of-judgement    Metal   \n",
       "\n",
       "                                                   lyrics  \\\n",
       "346876  No matter what you say or what you do\\nWhen I'...   \n",
       "286644  You, Doubleswee\\nIn space\\nWhat up guys\\nYeah ...   \n",
       "166706  It was just one of those things\\nJust one of t...   \n",
       "336273  Keep this on your mind,\\nKeep it within your e...   \n",
       "53140   Rise.\\nA sentence given, to the afflicted livi...   \n",
       "\n",
       "                                             lyrics_clean  \n",
       "346876  matter what you say what you When I'm alone, I...  \n",
       "286644  You, Doubleswee space What guys Yeah it's Chil...  \n",
       "166706  was just one those things Just one those crazy...  \n",
       "336273  Keep this your mind, Keep within your eyelids....  \n",
       "53140   Rise. sentence given, the afflicted living, it...  "
      ]
     },
     "execution_count": 4,
     "metadata": {},
     "output_type": "execute_result"
    }
   ],
   "source": [
    "df_clean.head()"
   ]
  },
  {
   "cell_type": "markdown",
   "metadata": {
    "slideshow": {
     "slide_type": "slide"
    }
   },
   "source": [
    "## 👠 2. Modeling\n",
    "\n",
    "### ✂️ Splitting data"
   ]
  },
  {
   "cell_type": "code",
   "execution_count": 7,
   "metadata": {
    "ExecuteTime": {
     "end_time": "2018-12-02T01:42:28.473426Z",
     "start_time": "2018-12-02T01:42:28.452267Z"
    },
    "slideshow": {
     "slide_type": "fragment"
    }
   },
   "outputs": [],
   "source": [
    "train, test = train_test_split(df_clean, test_size=0.2)\n",
    "train_lyrics = train['lyrics']\n",
    "train_genre = train['genre']\n",
    "test_lyrics = test['lyrics']\n",
    "test_genre = test['genre']"
   ]
  },
  {
   "cell_type": "markdown",
   "metadata": {
    "slideshow": {
     "slide_type": "slide"
    }
   },
   "source": [
    "### 🥊 Supervised model: Multinomial Naive-Bayes"
   ]
  },
  {
   "cell_type": "code",
   "execution_count": 12,
   "metadata": {
    "ExecuteTime": {
     "end_time": "2018-12-02T01:56:11.950970Z",
     "start_time": "2018-12-02T01:56:11.944818Z"
    }
   },
   "outputs": [],
   "source": [
    "pipe_lr_cv = Pipeline([\n",
    "    ('cv', CountVectorizer(stop_words='english',\n",
    "                             lowercase=False,\n",
    "                             analyzer='word')),\n",
    "    ('lr', LogisticRegression())\n",
    "])\n",
    "\n",
    "pipe_lr_tf = Pipeline([\n",
    "    ('tfidf', TfidfVectorizer(stop_words='english',\n",
    "                             lowercase=False,\n",
    "                             analyzer='word')),\n",
    "    ('lr', LogisticRegression())\n",
    "])\n",
    "\n",
    "pipe_nb_cv = Pipeline([\n",
    "    ('cv', CountVectorizer(stop_words='english',\n",
    "                             lowercase=False,\n",
    "                             analyzer='word')),\n",
    "    ('nb', MultinomialNB())\n",
    "])\n",
    "\n",
    "pipe_nb_tf = Pipeline([\n",
    "    ('tfidf', TfidfVectorizer(stop_words='english',\n",
    "                             lowercase=False,\n",
    "                             analyzer='word')),\n",
    "    ('nb', MultinomialNB())\n",
    "])\n",
    "\n",
    "pipe_svc_cv = Pipeline([\n",
    "    ('cv', CountVectorizer(stop_words='english',\n",
    "                             lowercase=False,\n",
    "                             analyzer='word')),\n",
    "    ('svc', LinearSVC())\n",
    "])\n",
    "\n",
    "pipe_svc_tf = Pipeline([\n",
    "    ('tfidf', TfidfVectorizer(stop_words='english',\n",
    "                             lowercase=False,\n",
    "                             analyzer='word')),\n",
    "    ('svc', LinearSVC())\n",
    "])\n",
    "\n",
    "pipelines = [pipe_lr_cv, pipe_lr_tf, pipe_nb_cv, pipe_nb_tf, pipe_svc_cv, pipe_svc_tf]"
   ]
  },
  {
   "cell_type": "code",
   "execution_count": 13,
   "metadata": {
    "ExecuteTime": {
     "end_time": "2018-12-02T02:01:16.913682Z",
     "start_time": "2018-12-02T01:56:20.755863Z"
    },
    "slideshow": {
     "slide_type": "skip"
    }
   },
   "outputs": [
    {
     "name": "stderr",
     "output_type": "stream",
     "text": [
      "/anaconda3/lib/python3.6/site-packages/sklearn/linear_model/logistic.py:432: FutureWarning: Default solver will be changed to 'lbfgs' in 0.22. Specify a solver to silence this warning.\n",
      "  FutureWarning)\n",
      "/anaconda3/lib/python3.6/site-packages/sklearn/linear_model/logistic.py:459: FutureWarning: Default multi_class will be changed to 'auto' in 0.22. Specify the multi_class option to silence this warning.\n",
      "  \"this warning.\", FutureWarning)\n",
      "/anaconda3/lib/python3.6/site-packages/sklearn/svm/base.py:922: ConvergenceWarning: Liblinear failed to converge, increase the number of iterations.\n",
      "  \"the number of iterations.\", ConvergenceWarning)\n",
      "/anaconda3/lib/python3.6/site-packages/sklearn/svm/base.py:922: ConvergenceWarning: Liblinear failed to converge, increase the number of iterations.\n",
      "  \"the number of iterations.\", ConvergenceWarning)\n"
     ]
    }
   ],
   "source": [
    "# Fit pipe\n",
    "for pipe in pipelines:\n",
    "    pipe.fit(train_lyrics, train_genre)"
   ]
  },
  {
   "cell_type": "code",
   "execution_count": 14,
   "metadata": {
    "ExecuteTime": {
     "end_time": "2018-12-02T02:01:32.569161Z",
     "start_time": "2018-12-02T02:01:16.915930Z"
    }
   },
   "outputs": [],
   "source": [
    "methods = []\n",
    "\n",
    "for pipe in pipelines:\n",
    "    name = pipe.steps[-1][1].__class__.__name__.split('.')[-1]\n",
    "    vect = pipe.steps[0][1].__class__.__name__.split('.')[-1]\n",
    "\n",
    "    predicted = pipe.predict(test_lyrics)\n",
    "    accuracy = accuracy_score(predicted, test['genre'])\n",
    "    conf_mat = confusion_matrix(test['genre'], predicted)\n",
    "\n",
    "    methods.append([name, vect, accuracy, conf_mat])\n",
    "\n",
    "methods = pd.DataFrame(methods)\n",
    "methods.columns = ['Model', 'Vectorizer', 'Accuracy', \"Confussion_Matrix\"]\n",
    "methods[\"Strategy\"] = methods[\"Model\"] + \" -- \" + methods[\"Vectorizer\"]\n",
    "methods.set_index([\"Strategy\"], inplace=True)"
   ]
  },
  {
   "cell_type": "code",
   "execution_count": 15,
   "metadata": {
    "ExecuteTime": {
     "end_time": "2018-12-02T02:01:32.588324Z",
     "start_time": "2018-12-02T02:01:32.570884Z"
    }
   },
   "outputs": [
    {
     "data": {
      "text/html": [
       "<div>\n",
       "<style scoped>\n",
       "    .dataframe tbody tr th:only-of-type {\n",
       "        vertical-align: middle;\n",
       "    }\n",
       "\n",
       "    .dataframe tbody tr th {\n",
       "        vertical-align: top;\n",
       "    }\n",
       "\n",
       "    .dataframe thead th {\n",
       "        text-align: right;\n",
       "    }\n",
       "</style>\n",
       "<table border=\"1\" class=\"dataframe\">\n",
       "  <thead>\n",
       "    <tr style=\"text-align: right;\">\n",
       "      <th></th>\n",
       "      <th>Model</th>\n",
       "      <th>Vectorizer</th>\n",
       "      <th>Accuracy</th>\n",
       "      <th>Confussion_Matrix</th>\n",
       "    </tr>\n",
       "    <tr>\n",
       "      <th>Strategy</th>\n",
       "      <th></th>\n",
       "      <th></th>\n",
       "      <th></th>\n",
       "      <th></th>\n",
       "    </tr>\n",
       "  </thead>\n",
       "  <tbody>\n",
       "    <tr>\n",
       "      <th>LogisticRegression -- CountVectorizer</th>\n",
       "      <td>LogisticRegression</td>\n",
       "      <td>CountVectorizer</td>\n",
       "      <td>0.773104</td>\n",
       "      <td>[[2360, 120, 86, 217, 174], [164, 581, 220, 10...</td>\n",
       "    </tr>\n",
       "    <tr>\n",
       "      <th>LogisticRegression -- TfidfVectorizer</th>\n",
       "      <td>LogisticRegression</td>\n",
       "      <td>TfidfVectorizer</td>\n",
       "      <td>0.770254</td>\n",
       "      <td>[[2411, 60, 110, 154, 222], [198, 421, 287, 68...</td>\n",
       "    </tr>\n",
       "    <tr>\n",
       "      <th>MultinomialNB -- CountVectorizer</th>\n",
       "      <td>MultinomialNB</td>\n",
       "      <td>CountVectorizer</td>\n",
       "      <td>0.728828</td>\n",
       "      <td>[[2676, 23, 76, 52, 130], [480, 359, 274, 45, ...</td>\n",
       "    </tr>\n",
       "    <tr>\n",
       "      <th>MultinomialNB -- TfidfVectorizer</th>\n",
       "      <td>MultinomialNB</td>\n",
       "      <td>TfidfVectorizer</td>\n",
       "      <td>0.624691</td>\n",
       "      <td>[[1136, 9, 1373, 2, 437], [42, 51, 910, 4, 555...</td>\n",
       "    </tr>\n",
       "    <tr>\n",
       "      <th>LinearSVC -- CountVectorizer</th>\n",
       "      <td>LinearSVC</td>\n",
       "      <td>CountVectorizer</td>\n",
       "      <td>0.734275</td>\n",
       "      <td>[[2165, 151, 139, 339, 163], [172, 681, 218, 1...</td>\n",
       "    </tr>\n",
       "    <tr>\n",
       "      <th>LinearSVC -- TfidfVectorizer</th>\n",
       "      <td>LinearSVC</td>\n",
       "      <td>TfidfVectorizer</td>\n",
       "      <td>0.786026</td>\n",
       "      <td>[[2396, 101, 94, 217, 149], [168, 649, 242, 10...</td>\n",
       "    </tr>\n",
       "  </tbody>\n",
       "</table>\n",
       "</div>"
      ],
      "text/plain": [
       "                                                    Model       Vectorizer  \\\n",
       "Strategy                                                                     \n",
       "LogisticRegression -- CountVectorizer  LogisticRegression  CountVectorizer   \n",
       "LogisticRegression -- TfidfVectorizer  LogisticRegression  TfidfVectorizer   \n",
       "MultinomialNB -- CountVectorizer            MultinomialNB  CountVectorizer   \n",
       "MultinomialNB -- TfidfVectorizer            MultinomialNB  TfidfVectorizer   \n",
       "LinearSVC -- CountVectorizer                    LinearSVC  CountVectorizer   \n",
       "LinearSVC -- TfidfVectorizer                    LinearSVC  TfidfVectorizer   \n",
       "\n",
       "                                       Accuracy  \\\n",
       "Strategy                                          \n",
       "LogisticRegression -- CountVectorizer  0.773104   \n",
       "LogisticRegression -- TfidfVectorizer  0.770254   \n",
       "MultinomialNB -- CountVectorizer       0.728828   \n",
       "MultinomialNB -- TfidfVectorizer       0.624691   \n",
       "LinearSVC -- CountVectorizer           0.734275   \n",
       "LinearSVC -- TfidfVectorizer           0.786026   \n",
       "\n",
       "                                                                       Confussion_Matrix  \n",
       "Strategy                                                                                  \n",
       "LogisticRegression -- CountVectorizer  [[2360, 120, 86, 217, 174], [164, 581, 220, 10...  \n",
       "LogisticRegression -- TfidfVectorizer  [[2411, 60, 110, 154, 222], [198, 421, 287, 68...  \n",
       "MultinomialNB -- CountVectorizer       [[2676, 23, 76, 52, 130], [480, 359, 274, 45, ...  \n",
       "MultinomialNB -- TfidfVectorizer       [[1136, 9, 1373, 2, 437], [42, 51, 910, 4, 555...  \n",
       "LinearSVC -- CountVectorizer           [[2165, 151, 139, 339, 163], [172, 681, 218, 1...  \n",
       "LinearSVC -- TfidfVectorizer           [[2396, 101, 94, 217, 149], [168, 649, 242, 10...  "
      ]
     },
     "execution_count": 15,
     "metadata": {},
     "output_type": "execute_result"
    }
   ],
   "source": [
    "methods"
   ]
  },
  {
   "cell_type": "markdown",
   "metadata": {},
   "source": [
    "## we know LinearSVC -- TfidfVectorizer is the best\n",
    "### go back and manual grid search"
   ]
  },
  {
   "cell_type": "code",
   "execution_count": 38,
   "metadata": {
    "ExecuteTime": {
     "end_time": "2018-12-02T02:12:44.151083Z",
     "start_time": "2018-12-02T02:12:44.147972Z"
    }
   },
   "outputs": [],
   "source": [
    "pipe_svc_tf = Pipeline([\n",
    "    ('tfidf', TfidfVectorizer(stop_words='english',\n",
    "                             lowercase=False,\n",
    "                             analyzer='word')),\n",
    "    ('svc', LinearSVC())])"
   ]
  },
  {
   "cell_type": "code",
   "execution_count": 43,
   "metadata": {
    "ExecuteTime": {
     "end_time": "2018-12-02T02:17:49.284942Z",
     "start_time": "2018-12-02T02:17:49.282117Z"
    }
   },
   "outputs": [],
   "source": [
    "grid = {'svc__C': np.arange(0.01,100,10)}\n",
    "\n",
    "gs = GridSearchCV(pipe_svc_tf,\n",
    "                  param_grid=grid,\n",
    "                  scoring='accuracy')\n",
    "\n",
    "# loss : string, ‘hinge’ or ‘squared_hinge’ \n",
    "# penalty : string, ‘l1’ or ‘l2’"
   ]
  },
  {
   "cell_type": "code",
   "execution_count": null,
   "metadata": {
    "ExecuteTime": {
     "start_time": "2018-12-02T02:17:50.087Z"
    },
    "slideshow": {
     "slide_type": "skip"
    }
   },
   "outputs": [
    {
     "name": "stderr",
     "output_type": "stream",
     "text": [
      "/anaconda3/lib/python3.6/site-packages/sklearn/model_selection/_split.py:1943: FutureWarning: You should specify a value for 'cv' instead of relying on the default value. The default value will change from 3 to 5 in version 0.22.\n",
      "  warnings.warn(CV_WARNING, FutureWarning)\n"
     ]
    }
   ],
   "source": [
    "gs.fit(train_lyrics, train_genre)"
   ]
  },
  {
   "cell_type": "code",
   "execution_count": null,
   "metadata": {
    "ExecuteTime": {
     "start_time": "2018-12-02T02:18:41.956Z"
    },
    "slideshow": {
     "slide_type": "skip"
    }
   },
   "outputs": [],
   "source": [
    "gs.best_estimator_.steps[0][1]  # best model"
   ]
  },
  {
   "cell_type": "code",
   "execution_count": null,
   "metadata": {
    "slideshow": {
     "slide_type": "skip"
    }
   },
   "outputs": [],
   "source": [
    "pred = gs.best_estimator_.predict(test_lyrics)"
   ]
  },
  {
   "cell_type": "markdown",
   "metadata": {
    "slideshow": {
     "slide_type": "slide"
    }
   },
   "source": [
    "# Recap ✍️"
   ]
  },
  {
   "cell_type": "code",
   "execution_count": null,
   "metadata": {},
   "outputs": [],
   "source": []
  }
 ],
 "metadata": {
  "celltoolbar": "Slideshow",
  "kernelspec": {
   "display_name": "Python 3",
   "language": "python",
   "name": "python3"
  },
  "language_info": {
   "codemirror_mode": {
    "name": "ipython",
    "version": 3
   },
   "file_extension": ".py",
   "mimetype": "text/x-python",
   "name": "python",
   "nbconvert_exporter": "python",
   "pygments_lexer": "ipython3",
   "version": "3.6.6"
  }
 },
 "nbformat": 4,
 "nbformat_minor": 2
}
