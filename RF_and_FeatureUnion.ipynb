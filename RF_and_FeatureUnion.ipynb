{
 "cells": [
  {
   "cell_type": "code",
   "execution_count": 146,
   "metadata": {},
   "outputs": [],
   "source": [
    "import numpy as np\n",
    "import pandas as pd\n",
    "import sklearn\n",
    "import matplotlib.pyplot as plt\n",
    "import seaborn as sns\n",
    "from sklearn.model_selection import train_test_split\n",
    "from sklearn.feature_extraction.text import CountVectorizer\n",
    "from sklearn.feature_extraction.text import TfidfTransformer\n",
    "from sklearn.pipeline import Pipeline, FeatureUnion\n",
    "from sklearn.naive_bayes import MultinomialNB\n",
    "from sklearn.metrics import accuracy_score\n",
    "\n",
    "from vaderSentiment.vaderSentiment import SentimentIntensityAnalyzer\n",
    "from sklearn.feature_extraction.text import TfidfVectorizer\n",
    "from sklearn.base import BaseEstimator, TransformerMixin\n",
    "from sklearn.ensemble import RandomForestClassifier\n",
    "\n",
    "from sklearn.feature_extraction import stop_words\n",
    "import string\n",
    "import re"
   ]
  },
  {
   "cell_type": "code",
   "execution_count": 147,
   "metadata": {},
   "outputs": [],
   "source": [
    "df = pd.read_csv(\"lyrics.csv\")\n",
    "df = df.sample(n=100000)"
   ]
  },
  {
   "cell_type": "code",
   "execution_count": 148,
   "metadata": {},
   "outputs": [],
   "source": [
    "def clean_lyrics(text):\n",
    "    regex = re.compile('[' + re.escape(string.punctuation) + '0-9\\\\r\\\\t\\\\n]')\n",
    "    # delete stuff but leave at least a space to avoid clumping together\n",
    "    nopunct = regex.sub(\" \", text)\n",
    "    words = nopunct.split(\" \")\n",
    "    words = [w for w in words if len(w) > 2]  # ignore a, an, to, at, be, ...\n",
    "    words = [w.lower() for w in words]\n",
    "    words = [w for w in words if w not in stop_words.ENGLISH_STOP_WORDS]\n",
    "    return words\n",
    "\n",
    "\n",
    "df = df[pd.notnull(df['lyrics'])]\n",
    "df = df[df['genre'] != 'Not Available']\n",
    "df = df[df['genre'] != 'Other']\n",
    "df['lyrics_clean'] = df.lyrics.apply(clean_lyrics)"
   ]
  },
  {
   "cell_type": "code",
   "execution_count": 149,
   "metadata": {},
   "outputs": [],
   "source": [
    "X, y = df['lyrics'], df['genre']"
   ]
  },
  {
   "cell_type": "code",
   "execution_count": 150,
   "metadata": {},
   "outputs": [],
   "source": [
    "def load_glove(filename):\n",
    "    \"\"\"\n",
    "    Read all lines from the indicated file and return a dictionary\n",
    "    mapping word:vector where vectors are of numpy `array` type.\n",
    "    \"\"\"\n",
    "    gloves = {}\n",
    "    key = \"\"\n",
    "    with open(filename, 'r') as f:\n",
    "        for line in f.readlines():\n",
    "            data = line.split(\" \")\n",
    "            key = data.pop(0) \n",
    "            gloves[key] = np.array(data).astype(np.float) \n",
    "        return gloves\n"
   ]
  },
  {
   "cell_type": "code",
   "execution_count": 151,
   "metadata": {},
   "outputs": [],
   "source": [
    "global gloves \n",
    "gloves = load_glove(\"glove/glove.6B.300d.txt\")"
   ]
  },
  {
   "cell_type": "code",
   "execution_count": 152,
   "metadata": {},
   "outputs": [],
   "source": [
    "X_train, X_test, y_train, y_test = train_test_split(X, y, test_size=0.2)"
   ]
  },
  {
   "cell_type": "code",
   "execution_count": 153,
   "metadata": {},
   "outputs": [],
   "source": [
    "# Below are the Extractors classes for Pipeline and FeatureUnion:"
   ]
  },
  {
   "cell_type": "code",
   "execution_count": 154,
   "metadata": {},
   "outputs": [],
   "source": [
    "class Word2Vec(BaseEstimator, TransformerMixin):\n",
    "    \"\"\"Takes in the lyrics column and outputs word2vec for the song\"\"\"\n",
    "\n",
    "    def __init__(self):\n",
    "        pass\n",
    "\n",
    "    def word2vec(self, song):\n",
    "        \"\"\"\n",
    "        Helper code to compute word2vec.\n",
    "        \"\"\"\n",
    "\n",
    "        sum = 0\n",
    "        c = 0\n",
    "        for word in song:\n",
    "            if word in gloves:\n",
    "                sum = np.add(sum, gloves[word])\n",
    "                c += 1\n",
    "                return np.mean(sum / c)\n",
    "            else:\n",
    "                return 0\n",
    "\n",
    "    def transform(self, X, y=None):\n",
    "        \"\"\"Transform function of this feature extractor\"\"\"\n",
    "        return np.array(X.apply(self.word2vec)).reshape(-1, 1)\n",
    "\n",
    "    def fit(self, X, y=None):\n",
    "        \"\"\"Returns `self` unless there is other functions in train and test\"\"\"\n",
    "        return self"
   ]
  },
  {
   "cell_type": "code",
   "execution_count": 155,
   "metadata": {},
   "outputs": [],
   "source": [
    "class Polarity(BaseEstimator, TransformerMixin):\n",
    "    \"\"\"Takes in the lyrics column and outputs polarity score\"\"\"\n",
    "\n",
    "    def __init__(self):\n",
    "        pass\n",
    "\n",
    "    def sent_score(self, song):\n",
    "        \"\"\"Helper code to compute sentiment\"\"\"\n",
    "        sid = SentimentIntensityAnalyzer()\n",
    "        if type(song) is str:\n",
    "            return sid.polarity_scores(\", \".join(song.split(\"\\n\")))['compound']\n",
    "        else:\n",
    "            return 0\n",
    "\n",
    "    def transform(self, X, y=None):\n",
    "        \"\"\"Transform function of this feature extractor\"\"\"\n",
    "        return np.array(X.apply(self.sent_score)).reshape(-1, 1)\n",
    "\n",
    "    def fit(self, X, y=None):\n",
    "        \"\"\"Returns `self` unless there is other functions in train and test\"\"\"\n",
    "        return self"
   ]
  },
  {
   "cell_type": "code",
   "execution_count": 156,
   "metadata": {},
   "outputs": [],
   "source": [
    "class AverageWordLength(BaseEstimator, TransformerMixin):\n",
    "    \"\"\"Takes in the lyrics column and outputs average word length\"\"\"\n",
    "\n",
    "    def __init__(self):\n",
    "        pass\n",
    "\n",
    "    def average_word_length(self, song):\n",
    "        \"\"\"Helper code to compute average word length\"\"\"\n",
    "        return np.mean([len(w) for w in song.split()])\n",
    "\n",
    "    def transform(self, X, y=None):\n",
    "        \"\"\"Transform function of this feature extractor\"\"\"\n",
    "        return np.array(X.apply(self.average_word_length)).reshape(-1, 1)\n",
    "\n",
    "    def fit(self, X, y=None):\n",
    "        \"\"\"Returns `self` unless there is other functions in train and test\"\"\"\n",
    "        return self"
   ]
  },
  {
   "cell_type": "code",
   "execution_count": 157,
   "metadata": {},
   "outputs": [],
   "source": [
    "# features:\n",
    "word2vec = ('word2vec', Word2Vec())\n",
    "countVectorizer = ('vect', CountVectorizer(\n",
    "    stop_words='english', lowercase=True, analyzer='word'))\n",
    "tfidf = ('tfidf', TfidfVectorizer())\n",
    "polarity = ('polarity', Polarity())\n",
    "avg_len = ('avg_len', AverageWordLength())\n",
    "\n",
    "\n",
    "# pipe this features into the pipeline and FeatureUnion\n",
    "pipeline = Pipeline([\n",
    "    ('feats', FeatureUnion([avg_len, polarity, countVectorizer])),\n",
    "    ('clf', RandomForestClassifier(n_estimators=200, n_jobs=-1))\n",
    "])"
   ]
  },
  {
   "cell_type": "code",
   "execution_count": 158,
   "metadata": {},
   "outputs": [
    {
     "data": {
      "text/plain": [
       "0.5712761091629822"
      ]
     },
     "execution_count": 158,
     "metadata": {},
     "output_type": "execute_result"
    }
   ],
   "source": [
    "pipeline.fit(X_train, y_train)\n",
    "pred = pipeline.predict(X_test)\n",
    "accuracy_score(pred, y_test)"
   ]
  },
  {
   "cell_type": "code",
   "execution_count": null,
   "metadata": {},
   "outputs": [],
   "source": [
    "#Since we have 11 genre categories to classify, the accuracy we are getting is pretty good."
   ]
  }
 ],
 "metadata": {
  "kernelspec": {
   "display_name": "Python 3",
   "language": "python",
   "name": "python3"
  },
  "language_info": {
   "codemirror_mode": {
    "name": "ipython",
    "version": 3
   },
   "file_extension": ".py",
   "mimetype": "text/x-python",
   "name": "python",
   "nbconvert_exporter": "python",
   "pygments_lexer": "ipython3",
   "version": "3.6.6"
  }
 },
 "nbformat": 4,
 "nbformat_minor": 2
}
