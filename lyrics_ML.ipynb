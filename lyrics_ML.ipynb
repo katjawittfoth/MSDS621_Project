{
 "cells": [
  {
   "cell_type": "code",
   "execution_count": 417,
   "metadata": {},
   "outputs": [],
   "source": [
    "import numpy as np\n",
    "import pandas as pd\n",
    "import sklearn\n",
    "import matplotlib.pyplot as plt\n",
    "import seaborn as sns\n",
    "from sklearn.model_selection import train_test_split\n",
    "from sklearn.feature_extraction.text import CountVectorizer\n",
    "from sklearn.feature_extraction.text import TfidfTransformer\n",
    "from sklearn.pipeline import Pipeline, FeatureUnion\n",
    "from sklearn.naive_bayes import MultinomialNB\n",
    "from sklearn.metrics import accuracy_score\n",
    "\n",
    "from vaderSentiment.vaderSentiment import SentimentIntensityAnalyzer\n",
    "from sklearn.feature_extraction.text import TfidfVectorizer\n",
    "from sklearn.base import BaseEstimator, TransformerMixin"
   ]
  },
  {
   "cell_type": "code",
   "execution_count": 418,
   "metadata": {},
   "outputs": [],
   "source": [
    "df = pd.read_csv(\"lyrics.csv\")\n",
    "# df[\"polarity_tot\"] = sid.polarity_scores(\", \".join(song['lyrics'].split(\"\\n\")))['compound']\n",
    "# pol = df[\"polarity_tot\"]\n",
    "df = df.sample(n=100000)\n",
    "df = df[pd.notnull(df['lyrics'])]\n",
    "df = df[df['genre']!= 'Not Available']\n",
    "df = df[df['genre']!= 'Other']\n",
    "#df = df.replace({'\\n': ' '}, regex=True)"
   ]
  },
  {
   "cell_type": "code",
   "execution_count": 419,
   "metadata": {},
   "outputs": [],
   "source": [
    "X, y = df['lyrics'], df['genre']"
   ]
  },
  {
   "cell_type": "code",
   "execution_count": 420,
   "metadata": {},
   "outputs": [],
   "source": [
    "X_train, X_test, y_train, y_test = train_test_split(X, y, test_size=0.2, random_state=42)"
   ]
  },
  {
   "cell_type": "markdown",
   "metadata": {},
   "source": [
    "# those are Extractors classes for Pipeline and FeatureUnion:"
   ]
  },
  {
   "cell_type": "code",
   "execution_count": 421,
   "metadata": {},
   "outputs": [],
   "source": [
    "class Polarity(BaseEstimator, TransformerMixin):\n",
    "    \"\"\"Takes in the lyrics column and outputs polarity score\"\"\"\n",
    "\n",
    "    def __init__(self):\n",
    "        pass\n",
    "\n",
    "    def sent_score(self, song):\n",
    "        \"\"\"Helper code to compute sentiment\"\"\"\n",
    "        sid = SentimentIntensityAnalyzer()\n",
    "        if type(song) is str:\n",
    "            return sid.polarity_scores(\", \".join(song.split(\"\\n\")))['compound']\n",
    "        else:\n",
    "            return 0\n",
    "    \n",
    "    def transform(self, X, y=None):\n",
    "        \"\"\"Transform function of this feature extractor\"\"\"\n",
    "        return np.array(X.apply(self.sent_score)).reshape(-1,1)\n",
    "\n",
    "    def fit(self, X, y=None):\n",
    "        \"\"\"Returns `self` unless there is other functions in train and test\"\"\"\n",
    "        return self"
   ]
  },
  {
   "cell_type": "code",
   "execution_count": 422,
   "metadata": {},
   "outputs": [],
   "source": [
    "class AverageWordLength(BaseEstimator, TransformerMixin):\n",
    "    \"\"\"Takes in the lyrics column and outputs average word length\"\"\"\n",
    "\n",
    "    def __init__(self):\n",
    "        pass\n",
    "\n",
    "    def average_word_length(self, song):\n",
    "        \"\"\"Helper code to compute average word length\"\"\"\n",
    "        return np.mean([len(w) for w in song.split()])\n",
    "\n",
    "    def transform(self, X, y=None):\n",
    "        \"\"\"Transform function of this feature extractor\"\"\"\n",
    "        return np.array(X.apply(self.average_word_length)).reshape(-1,1)\n",
    "\n",
    "    def fit(self, X, y=None):\n",
    "        \"\"\"Returns `self` unless there is other functions in train and test\"\"\"\n",
    "        return self"
   ]
  },
  {
   "cell_type": "code",
   "execution_count": 423,
   "metadata": {},
   "outputs": [],
   "source": [
    "# features:\n",
    "countVectorizer = ('vect', CountVectorizer(stop_words='english', lowercase=True, analyzer = 'word'))\n",
    "tfidf = ('tfidf', TfidfVectorizer())\n",
    "polarity = ('polarity', Polarity())\n",
    "avg_len = ('avg_len', AverageWordLength())\n",
    "\n",
    "# pipe this features into the pipeline and FeatureUnion\n",
    "pipeline = Pipeline([\n",
    "    ('feats', FeatureUnion([avg_len, polarity, countVectorizer])),\n",
    "    ('clf', RandomForestClassifier(n_estimators = 100))  # classifier, n_estimators -  max number of trees\n",
    "])"
   ]
  },
  {
   "cell_type": "code",
   "execution_count": 424,
   "metadata": {},
   "outputs": [
    {
     "data": {
      "text/plain": [
       "0.5753959146201515"
      ]
     },
     "execution_count": 424,
     "metadata": {},
     "output_type": "execute_result"
    }
   ],
   "source": [
    "pipeline.fit(X_train, y_train)\n",
    "pred = pipeline.predict(X_test)\n",
    "accuracy_score(pred, y_test)"
   ]
  },
  {
   "cell_type": "markdown",
   "metadata": {},
   "source": [
    "# TO DO NEXT:\n",
    "try to elimninate '\\n' in dataframe already and change the code feature Extractor functions\n",
    "\n",
    "for this I think we can use df = df.replace({'\n",
    "': ' '}, regex=True)\n",
    "\n",
    "add some other features like unique words or tfid\n",
    "\n",
    "Try other algorithms\n",
    "\n",
    "try feature selection to improve scores\n",
    "\n",
    "How to use full data set? spark may be?"
   ]
  },
  {
   "cell_type": "code",
   "execution_count": null,
   "metadata": {},
   "outputs": [],
   "source": []
  }
 ],
 "metadata": {
  "kernelspec": {
   "display_name": "Python 3",
   "language": "python",
   "name": "python3"
  },
  "language_info": {
   "codemirror_mode": {
    "name": "ipython",
    "version": 3
   },
   "file_extension": ".py",
   "mimetype": "text/x-python",
   "name": "python",
   "nbconvert_exporter": "python",
   "pygments_lexer": "ipython3",
   "version": "3.6.6"
  }
 },
 "nbformat": 4,
 "nbformat_minor": 2
}
