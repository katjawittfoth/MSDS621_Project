{
 "cells": [
  {
   "cell_type": "code",
   "execution_count": 1,
   "metadata": {
    "ExecuteTime": {
     "end_time": "2018-12-01T19:35:58.570629Z",
     "start_time": "2018-12-01T19:35:58.550648Z"
    }
   },
   "outputs": [],
   "source": [
    "reset -fs"
   ]
  },
  {
   "cell_type": "code",
   "execution_count": 2,
   "metadata": {
    "ExecuteTime": {
     "end_time": "2018-12-01T19:36:01.947849Z",
     "start_time": "2018-12-01T19:35:59.907349Z"
    }
   },
   "outputs": [],
   "source": [
    "import sys\n",
    "\n",
    "import numpy as np\n",
    "import pandas as pd\n",
    "import sklearn\n",
    "import matplotlib.pyplot as plt\n",
    "import seaborn as sns\n",
    "\n",
    "from sklearn.model_selection import train_test_split\n",
    "from sklearn.feature_extraction.text import CountVectorizer\n",
    "from sklearn.feature_extraction.text import TfidfTransformer\n",
    "from sklearn.pipeline import Pipeline\n",
    "from sklearn.metrics import accuracy_score\n",
    "from sklearn.metrics import confusion_matrix"
   ]
  },
  {
   "cell_type": "code",
   "execution_count": 3,
   "metadata": {
    "ExecuteTime": {
     "end_time": "2018-12-01T19:36:18.671746Z",
     "start_time": "2018-12-01T19:36:16.115665Z"
    }
   },
   "outputs": [],
   "source": [
    "df = pd.read_csv('/Users/rreilly/MSDS/msds621/MSDS621_Project/lyrics.csv')"
   ]
  },
  {
   "cell_type": "code",
   "execution_count": 4,
   "metadata": {
    "ExecuteTime": {
     "end_time": "2018-12-01T19:36:18.796480Z",
     "start_time": "2018-12-01T19:36:18.674143Z"
    }
   },
   "outputs": [
    {
     "data": {
      "text/html": [
       "<div>\n",
       "<style scoped>\n",
       "    .dataframe tbody tr th:only-of-type {\n",
       "        vertical-align: middle;\n",
       "    }\n",
       "\n",
       "    .dataframe tbody tr th {\n",
       "        vertical-align: top;\n",
       "    }\n",
       "\n",
       "    .dataframe thead th {\n",
       "        text-align: right;\n",
       "    }\n",
       "</style>\n",
       "<table border=\"1\" class=\"dataframe\">\n",
       "  <thead>\n",
       "    <tr style=\"text-align: right;\">\n",
       "      <th></th>\n",
       "      <th>index</th>\n",
       "      <th>song</th>\n",
       "      <th>year</th>\n",
       "      <th>artist</th>\n",
       "      <th>lyrics</th>\n",
       "    </tr>\n",
       "    <tr>\n",
       "      <th>genre</th>\n",
       "      <th></th>\n",
       "      <th></th>\n",
       "      <th></th>\n",
       "      <th></th>\n",
       "      <th></th>\n",
       "    </tr>\n",
       "  </thead>\n",
       "  <tbody>\n",
       "    <tr>\n",
       "      <th>Country</th>\n",
       "      <td>17286</td>\n",
       "      <td>17286</td>\n",
       "      <td>17286</td>\n",
       "      <td>17286</td>\n",
       "      <td>14387</td>\n",
       "    </tr>\n",
       "    <tr>\n",
       "      <th>Electronic</th>\n",
       "      <td>16205</td>\n",
       "      <td>16205</td>\n",
       "      <td>16205</td>\n",
       "      <td>16205</td>\n",
       "      <td>7966</td>\n",
       "    </tr>\n",
       "    <tr>\n",
       "      <th>Folk</th>\n",
       "      <td>3241</td>\n",
       "      <td>3241</td>\n",
       "      <td>3241</td>\n",
       "      <td>3241</td>\n",
       "      <td>2243</td>\n",
       "    </tr>\n",
       "    <tr>\n",
       "      <th>Hip-Hop</th>\n",
       "      <td>33965</td>\n",
       "      <td>33965</td>\n",
       "      <td>33965</td>\n",
       "      <td>33965</td>\n",
       "      <td>24850</td>\n",
       "    </tr>\n",
       "    <tr>\n",
       "      <th>Indie</th>\n",
       "      <td>5732</td>\n",
       "      <td>5732</td>\n",
       "      <td>5732</td>\n",
       "      <td>5732</td>\n",
       "      <td>3149</td>\n",
       "    </tr>\n",
       "    <tr>\n",
       "      <th>Jazz</th>\n",
       "      <td>17147</td>\n",
       "      <td>17145</td>\n",
       "      <td>17147</td>\n",
       "      <td>17147</td>\n",
       "      <td>7971</td>\n",
       "    </tr>\n",
       "    <tr>\n",
       "      <th>Metal</th>\n",
       "      <td>28408</td>\n",
       "      <td>28408</td>\n",
       "      <td>28408</td>\n",
       "      <td>28408</td>\n",
       "      <td>23759</td>\n",
       "    </tr>\n",
       "    <tr>\n",
       "      <th>Not Available</th>\n",
       "      <td>29814</td>\n",
       "      <td>29814</td>\n",
       "      <td>29814</td>\n",
       "      <td>29814</td>\n",
       "      <td>23941</td>\n",
       "    </tr>\n",
       "    <tr>\n",
       "      <th>Other</th>\n",
       "      <td>23683</td>\n",
       "      <td>23683</td>\n",
       "      <td>23683</td>\n",
       "      <td>23683</td>\n",
       "      <td>5189</td>\n",
       "    </tr>\n",
       "    <tr>\n",
       "      <th>Pop</th>\n",
       "      <td>49444</td>\n",
       "      <td>49444</td>\n",
       "      <td>49444</td>\n",
       "      <td>49444</td>\n",
       "      <td>40466</td>\n",
       "    </tr>\n",
       "    <tr>\n",
       "      <th>R&amp;B</th>\n",
       "      <td>5935</td>\n",
       "      <td>5935</td>\n",
       "      <td>5935</td>\n",
       "      <td>5935</td>\n",
       "      <td>3401</td>\n",
       "    </tr>\n",
       "    <tr>\n",
       "      <th>Rock</th>\n",
       "      <td>131377</td>\n",
       "      <td>131377</td>\n",
       "      <td>131377</td>\n",
       "      <td>131377</td>\n",
       "      <td>109235</td>\n",
       "    </tr>\n",
       "  </tbody>\n",
       "</table>\n",
       "</div>"
      ],
      "text/plain": [
       "                index    song    year  artist  lyrics\n",
       "genre                                                \n",
       "Country         17286   17286   17286   17286   14387\n",
       "Electronic      16205   16205   16205   16205    7966\n",
       "Folk             3241    3241    3241    3241    2243\n",
       "Hip-Hop         33965   33965   33965   33965   24850\n",
       "Indie            5732    5732    5732    5732    3149\n",
       "Jazz            17147   17145   17147   17147    7971\n",
       "Metal           28408   28408   28408   28408   23759\n",
       "Not Available   29814   29814   29814   29814   23941\n",
       "Other           23683   23683   23683   23683    5189\n",
       "Pop             49444   49444   49444   49444   40466\n",
       "R&B              5935    5935    5935    5935    3401\n",
       "Rock           131377  131377  131377  131377  109235"
      ]
     },
     "execution_count": 4,
     "metadata": {},
     "output_type": "execute_result"
    }
   ],
   "source": [
    "df.groupby('genre').count()"
   ]
  },
  {
   "cell_type": "code",
   "execution_count": 5,
   "metadata": {
    "ExecuteTime": {
     "end_time": "2018-12-01T19:36:22.406674Z",
     "start_time": "2018-12-01T19:36:22.210421Z"
    }
   },
   "outputs": [],
   "source": [
    "df = df[(df.genre == 'Country') | (df.genre == 'Metal') | (df.genre == 'Hip-Hop') | (df.genre == 'Jazz')\n",
    "       | (df.genre == 'Electronic') ]\n",
    "df = df[pd.notnull(df['lyrics'])]\n",
    "df = df[df['genre']!= 'Not Available']\n",
    "df = df[df['genre']!= 'Other']"
   ]
  },
  {
   "cell_type": "code",
   "execution_count": 6,
   "metadata": {
    "ExecuteTime": {
     "end_time": "2018-12-01T19:36:25.786244Z",
     "start_time": "2018-12-01T19:36:22.746228Z"
    }
   },
   "outputs": [],
   "source": [
    "df = df.replace({'\\n': ' '}, regex=True)\n",
    "df['word_count'] = df['lyrics'].str.split().str.len()"
   ]
  },
  {
   "cell_type": "code",
   "execution_count": 7,
   "metadata": {
    "ExecuteTime": {
     "end_time": "2018-12-01T19:36:26.251208Z",
     "start_time": "2018-12-01T19:36:25.788089Z"
    }
   },
   "outputs": [
    {
     "data": {
      "text/html": [
       "<div>\n",
       "<style scoped>\n",
       "    .dataframe tbody tr th:only-of-type {\n",
       "        vertical-align: middle;\n",
       "    }\n",
       "\n",
       "    .dataframe tbody tr th {\n",
       "        vertical-align: top;\n",
       "    }\n",
       "\n",
       "    .dataframe thead th {\n",
       "        text-align: right;\n",
       "    }\n",
       "</style>\n",
       "<table border=\"1\" class=\"dataframe\">\n",
       "  <thead>\n",
       "    <tr style=\"text-align: right;\">\n",
       "      <th></th>\n",
       "      <th>index</th>\n",
       "      <th>song</th>\n",
       "      <th>year</th>\n",
       "      <th>artist</th>\n",
       "      <th>lyrics</th>\n",
       "      <th>word_count</th>\n",
       "    </tr>\n",
       "    <tr>\n",
       "      <th>genre</th>\n",
       "      <th></th>\n",
       "      <th></th>\n",
       "      <th></th>\n",
       "      <th></th>\n",
       "      <th></th>\n",
       "      <th></th>\n",
       "    </tr>\n",
       "  </thead>\n",
       "  <tbody>\n",
       "    <tr>\n",
       "      <th>Country</th>\n",
       "      <td>14387</td>\n",
       "      <td>14387</td>\n",
       "      <td>14387</td>\n",
       "      <td>14387</td>\n",
       "      <td>14387</td>\n",
       "      <td>14387</td>\n",
       "    </tr>\n",
       "    <tr>\n",
       "      <th>Electronic</th>\n",
       "      <td>7966</td>\n",
       "      <td>7966</td>\n",
       "      <td>7966</td>\n",
       "      <td>7966</td>\n",
       "      <td>7966</td>\n",
       "      <td>7966</td>\n",
       "    </tr>\n",
       "    <tr>\n",
       "      <th>Hip-Hop</th>\n",
       "      <td>24850</td>\n",
       "      <td>24850</td>\n",
       "      <td>24850</td>\n",
       "      <td>24850</td>\n",
       "      <td>24850</td>\n",
       "      <td>24850</td>\n",
       "    </tr>\n",
       "    <tr>\n",
       "      <th>Jazz</th>\n",
       "      <td>7971</td>\n",
       "      <td>7970</td>\n",
       "      <td>7971</td>\n",
       "      <td>7971</td>\n",
       "      <td>7971</td>\n",
       "      <td>7971</td>\n",
       "    </tr>\n",
       "    <tr>\n",
       "      <th>Metal</th>\n",
       "      <td>23759</td>\n",
       "      <td>23759</td>\n",
       "      <td>23759</td>\n",
       "      <td>23759</td>\n",
       "      <td>23759</td>\n",
       "      <td>23759</td>\n",
       "    </tr>\n",
       "  </tbody>\n",
       "</table>\n",
       "</div>"
      ],
      "text/plain": [
       "            index   song   year  artist  lyrics  word_count\n",
       "genre                                                      \n",
       "Country     14387  14387  14387   14387   14387       14387\n",
       "Electronic   7966   7966   7966    7966    7966        7966\n",
       "Hip-Hop     24850  24850  24850   24850   24850       24850\n",
       "Jazz         7971   7970   7971    7971    7971        7971\n",
       "Metal       23759  23759  23759   23759   23759       23759"
      ]
     },
     "execution_count": 7,
     "metadata": {},
     "output_type": "execute_result"
    }
   ],
   "source": [
    "df.groupby('genre').count()"
   ]
  },
  {
   "cell_type": "code",
   "execution_count": 8,
   "metadata": {
    "ExecuteTime": {
     "end_time": "2018-12-01T19:36:26.270686Z",
     "start_time": "2018-12-01T19:36:26.253240Z"
    }
   },
   "outputs": [],
   "source": [
    "train, test = train_test_split(df, test_size=0.2)\n",
    "train_lyrics = df['lyrics']\n",
    "train_genre = df['genre']"
   ]
  },
  {
   "cell_type": "markdown",
   "metadata": {},
   "source": [
    "# Parametric Test"
   ]
  },
  {
   "cell_type": "markdown",
   "metadata": {},
   "source": [
    "# Multinomial Bayes"
   ]
  },
  {
   "cell_type": "markdown",
   "metadata": {},
   "source": [
    "### with 5 genres"
   ]
  },
  {
   "cell_type": "code",
   "execution_count": 9,
   "metadata": {
    "ExecuteTime": {
     "end_time": "2018-12-01T19:36:35.124899Z",
     "start_time": "2018-12-01T19:36:35.120298Z"
    }
   },
   "outputs": [],
   "source": [
    "from sklearn.naive_bayes import MultinomialNB"
   ]
  },
  {
   "cell_type": "code",
   "execution_count": 10,
   "metadata": {
    "ExecuteTime": {
     "end_time": "2018-12-01T19:36:35.487532Z",
     "start_time": "2018-12-01T19:36:35.484707Z"
    }
   },
   "outputs": [],
   "source": [
    "pipeline = Pipeline([('vect', CountVectorizer(stop_words='english', \n",
    "                                              lowercase=True, \n",
    "                                              analyzer = 'word', \n",
    "                                              )),\n",
    "                     ('clf', MultinomialNB(alpha=.1))]) "
   ]
  },
  {
   "cell_type": "code",
   "execution_count": 11,
   "metadata": {
    "ExecuteTime": {
     "end_time": "2018-12-01T19:36:47.745446Z",
     "start_time": "2018-12-01T19:36:35.975498Z"
    }
   },
   "outputs": [
    {
     "data": {
      "text/plain": [
       "Pipeline(memory=None,\n",
       "     steps=[('vect', CountVectorizer(analyzer='word', binary=False, decode_error='strict',\n",
       "        dtype=<class 'numpy.int64'>, encoding='utf-8', input='content',\n",
       "        lowercase=True, max_df=1.0, max_features=None, min_df=1,\n",
       "        ngram_range=(1, 1), preprocessor=None, stop_words='english',\n",
       "        strip_accents=None, token_pattern='(?u)\\\\b\\\\w\\\\w+\\\\b',\n",
       "        tokenizer=None, vocabulary=None)), ('clf', MultinomialNB(alpha=0.1, class_prior=None, fit_prior=True))])"
      ]
     },
     "execution_count": 11,
     "metadata": {},
     "output_type": "execute_result"
    }
   ],
   "source": [
    "pipeline.fit(train_lyrics, train_genre)"
   ]
  },
  {
   "cell_type": "code",
   "execution_count": 12,
   "metadata": {
    "ExecuteTime": {
     "end_time": "2018-12-01T19:36:47.810578Z",
     "start_time": "2018-12-01T19:36:47.747644Z"
    }
   },
   "outputs": [],
   "source": [
    "pred = pipeline.predict(test['genre'])"
   ]
  },
  {
   "cell_type": "code",
   "execution_count": 13,
   "metadata": {
    "ExecuteTime": {
     "end_time": "2018-12-01T19:36:47.851947Z",
     "start_time": "2018-12-01T19:36:47.812364Z"
    }
   },
   "outputs": [],
   "source": [
    "con_mat = confusion_matrix(test['genre'], pred)"
   ]
  },
  {
   "cell_type": "code",
   "execution_count": 14,
   "metadata": {
    "ExecuteTime": {
     "end_time": "2018-12-01T19:36:48.138075Z",
     "start_time": "2018-12-01T19:36:47.853637Z"
    }
   },
   "outputs": [
    {
     "data": {
      "text/plain": [
       "<matplotlib.axes._subplots.AxesSubplot at 0x1a278d27b8>"
      ]
     },
     "execution_count": 14,
     "metadata": {},
     "output_type": "execute_result"
    },
    {
     "data": {
      "image/png": "[encoded data removed]",
      "text/plain": [
       "<Figure size 1080x1080 with 2 Axes>"
      ]
     },
     "metadata": {
      "needs_background": "light"
     },
     "output_type": "display_data"
    }
   ],
   "source": [
    "fig = plt.figure(figsize=(15, 15))\n",
    "sns.heatmap(con_mat.T, square=True, annot=True, fmt='d', cbar=True,\n",
    "           xticklabels=df.genre.unique(), yticklabels=df.genre.unique(), cmap=\"Greens\")"
   ]
  },
  {
   "cell_type": "code",
   "execution_count": 15,
   "metadata": {
    "ExecuteTime": {
     "end_time": "2018-12-01T19:38:37.925641Z",
     "start_time": "2018-12-01T19:38:37.911438Z"
    }
   },
   "outputs": [
    {
     "data": {
      "text/plain": [
       "1.0"
      ]
     },
     "execution_count": 15,
     "metadata": {},
     "output_type": "execute_result"
    }
   ],
   "source": [
    "accuracy_score(pred, test['genre']) "
   ]
  },
  {
   "cell_type": "markdown",
   "metadata": {},
   "source": [
    "# Non Parametric Test"
   ]
  },
  {
   "cell_type": "markdown",
   "metadata": {},
   "source": [
    "# Decision Tree"
   ]
  },
  {
   "cell_type": "markdown",
   "metadata": {},
   "source": [
    "### with 2 genres"
   ]
  },
  {
   "cell_type": "code",
   "execution_count": 16,
   "metadata": {
    "ExecuteTime": {
     "end_time": "2018-12-01T19:38:39.522709Z",
     "start_time": "2018-12-01T19:38:39.479401Z"
    }
   },
   "outputs": [],
   "source": [
    "from sklearn.tree import DecisionTreeClassifier\n",
    "from sklearn.tree import export_graphviz"
   ]
  },
  {
   "cell_type": "code",
   "execution_count": 17,
   "metadata": {
    "ExecuteTime": {
     "end_time": "2018-12-01T19:38:39.933344Z",
     "start_time": "2018-12-01T19:38:39.891197Z"
    }
   },
   "outputs": [],
   "source": [
    "df = df[(df.genre == 'Country') | (df.genre == 'Metal')]\n",
    "df = df[pd.notnull(df['lyrics'])]\n",
    "df = df[df['genre']!= 'Not Available']\n",
    "df = df[df['genre']!= 'Other']"
   ]
  },
  {
   "cell_type": "code",
   "execution_count": 18,
   "metadata": {
    "ExecuteTime": {
     "end_time": "2018-12-01T19:38:41.265829Z",
     "start_time": "2018-12-01T19:38:41.252648Z"
    }
   },
   "outputs": [],
   "source": [
    "train, test = train_test_split(df, test_size=0.2)\n",
    "train_lyrics = df['lyrics']\n",
    "train_genre = df['genre']"
   ]
  },
  {
   "cell_type": "code",
   "execution_count": 19,
   "metadata": {
    "ExecuteTime": {
     "end_time": "2018-12-01T19:38:41.547261Z",
     "start_time": "2018-12-01T19:38:41.544389Z"
    }
   },
   "outputs": [],
   "source": [
    "pipeline = Pipeline([('vect', CountVectorizer(stop_words='english', \n",
    "                                              lowercase=True, \n",
    "                                              analyzer = 'word', \n",
    "                                              )),\n",
    "                     ('clf', DecisionTreeClassifier(max_depth=5, \n",
    "                                              random_state = 100,\n",
    "                                              min_samples_leaf=5,\n",
    "                                              min_samples_split=40))]) "
   ]
  },
  {
   "cell_type": "code",
   "execution_count": 20,
   "metadata": {
    "ExecuteTime": {
     "end_time": "2018-12-01T19:38:46.201253Z",
     "start_time": "2018-12-01T19:38:42.013785Z"
    }
   },
   "outputs": [
    {
     "data": {
      "text/plain": [
       "Pipeline(memory=None,\n",
       "     steps=[('vect', CountVectorizer(analyzer='word', binary=False, decode_error='strict',\n",
       "        dtype=<class 'numpy.int64'>, encoding='utf-8', input='content',\n",
       "        lowercase=True, max_df=1.0, max_features=None, min_df=1,\n",
       "        ngram_range=(1, 1), preprocessor=None, stop_words='english',\n",
       "        ...       min_weight_fraction_leaf=0.0, presort=False, random_state=100,\n",
       "            splitter='best'))])"
      ]
     },
     "execution_count": 20,
     "metadata": {},
     "output_type": "execute_result"
    }
   ],
   "source": [
    "pipeline.fit(train_lyrics, train_genre)"
   ]
  },
  {
   "cell_type": "code",
   "execution_count": 21,
   "metadata": {
    "ExecuteTime": {
     "end_time": "2018-12-01T19:38:46.229899Z",
     "start_time": "2018-12-01T19:38:46.203348Z"
    }
   },
   "outputs": [],
   "source": [
    "pred = pipeline.predict(test['genre'])"
   ]
  },
  {
   "cell_type": "code",
   "execution_count": 22,
   "metadata": {
    "ExecuteTime": {
     "end_time": "2018-12-01T19:38:46.248256Z",
     "start_time": "2018-12-01T19:38:46.231894Z"
    }
   },
   "outputs": [
    {
     "data": {
      "text/plain": [
       "0.6184796854521625"
      ]
     },
     "execution_count": 22,
     "metadata": {},
     "output_type": "execute_result"
    }
   ],
   "source": [
    "accuracy_score(pred, test['genre']) "
   ]
  },
  {
   "cell_type": "markdown",
   "metadata": {},
   "source": [
    "# Random Forest with 2 genre"
   ]
  },
  {
   "cell_type": "code",
   "execution_count": 23,
   "metadata": {
    "ExecuteTime": {
     "end_time": "2018-12-01T19:39:08.272627Z",
     "start_time": "2018-12-01T19:39:08.252641Z"
    }
   },
   "outputs": [],
   "source": [
    "from sklearn.ensemble import RandomForestClassifier"
   ]
  },
  {
   "cell_type": "code",
   "execution_count": 24,
   "metadata": {
    "ExecuteTime": {
     "end_time": "2018-12-01T19:39:08.832255Z",
     "start_time": "2018-12-01T19:39:08.795972Z"
    }
   },
   "outputs": [],
   "source": [
    "df = df[(df.genre == 'Country') | (df.genre == 'Metal')]\n",
    "df = df[pd.notnull(df['lyrics'])]\n",
    "df = df[df['genre']!= 'Not Available']\n",
    "df = df[df['genre']!= 'Other']"
   ]
  },
  {
   "cell_type": "code",
   "execution_count": 25,
   "metadata": {
    "ExecuteTime": {
     "end_time": "2018-12-01T19:39:09.241285Z",
     "start_time": "2018-12-01T19:39:09.226496Z"
    }
   },
   "outputs": [],
   "source": [
    "train, test = train_test_split(df, test_size=0.2)\n",
    "train_lyrics = df['lyrics']\n",
    "train_genre = df['genre']"
   ]
  },
  {
   "cell_type": "code",
   "execution_count": 26,
   "metadata": {
    "ExecuteTime": {
     "end_time": "2018-12-01T19:39:09.660403Z",
     "start_time": "2018-12-01T19:39:09.655376Z"
    }
   },
   "outputs": [],
   "source": [
    "pipeline = Pipeline([('vect', CountVectorizer(stop_words='english', \n",
    "                                              lowercase=True, \n",
    "                                              analyzer = 'word', \n",
    "                                              )),\n",
    "                     ('clf', RandomForestClassifier(bootstrap=True, class_weight=None, criterion='gini',\n",
    "            max_depth=2, max_features='auto', max_leaf_nodes=None,\n",
    "            min_impurity_decrease=0.0, min_impurity_split=None,\n",
    "            min_samples_leaf=1, min_samples_split=2,\n",
    "            min_weight_fraction_leaf=0.0, n_estimators=100, n_jobs=None,\n",
    "            oob_score=False, random_state=0, verbose=0, warm_start=False))]) "
   ]
  },
  {
   "cell_type": "code",
   "execution_count": 27,
   "metadata": {
    "ExecuteTime": {
     "end_time": "2018-12-01T19:39:14.893080Z",
     "start_time": "2018-12-01T19:39:11.079401Z"
    }
   },
   "outputs": [
    {
     "data": {
      "text/plain": [
       "Pipeline(memory=None,\n",
       "     steps=[('vect', CountVectorizer(analyzer='word', binary=False, decode_error='strict',\n",
       "        dtype=<class 'numpy.int64'>, encoding='utf-8', input='content',\n",
       "        lowercase=True, max_df=1.0, max_features=None, min_df=1,\n",
       "        ngram_range=(1, 1), preprocessor=None, stop_words='english',\n",
       "        ...mators=100, n_jobs=None,\n",
       "            oob_score=False, random_state=0, verbose=0, warm_start=False))])"
      ]
     },
     "execution_count": 27,
     "metadata": {},
     "output_type": "execute_result"
    }
   ],
   "source": [
    "pipeline.fit(train_lyrics, train_genre)"
   ]
  },
  {
   "cell_type": "code",
   "execution_count": 28,
   "metadata": {
    "ExecuteTime": {
     "end_time": "2018-12-01T19:39:14.956636Z",
     "start_time": "2018-12-01T19:39:14.895276Z"
    }
   },
   "outputs": [],
   "source": [
    "pred = pipeline.predict(test['genre'])"
   ]
  },
  {
   "cell_type": "code",
   "execution_count": 29,
   "metadata": {
    "ExecuteTime": {
     "end_time": "2018-12-01T19:39:14.974726Z",
     "start_time": "2018-12-01T19:39:14.958570Z"
    }
   },
   "outputs": [
    {
     "data": {
      "text/plain": [
       "0.6187418086500656"
      ]
     },
     "execution_count": 29,
     "metadata": {},
     "output_type": "execute_result"
    }
   ],
   "source": [
    "accuracy_score(pred, test['genre']) "
   ]
  },
  {
   "cell_type": "markdown",
   "metadata": {},
   "source": [
    "# pie chart"
   ]
  },
  {
   "cell_type": "code",
   "execution_count": 38,
   "metadata": {
    "ExecuteTime": {
     "end_time": "2018-12-01T19:52:58.588770Z",
     "start_time": "2018-12-01T19:52:58.425097Z"
    }
   },
   "outputs": [],
   "source": [
    "df = df[(df.genre == 'Country') | (df.genre == 'Metal') | (df.genre == 'Hip-Hop') | (df.genre == 'Jazz')\n",
    "       | (df.genre == 'Electronic') ]\n",
    "df = df[pd.notnull(df['lyrics'])]\n",
    "df = df[df['genre']!= 'Not Available']\n",
    "df = df[df['genre']!= 'Other']"
   ]
  },
  {
   "cell_type": "code",
   "execution_count": 39,
   "metadata": {
    "ExecuteTime": {
     "end_time": "2018-12-01T19:52:58.855642Z",
     "start_time": "2018-12-01T19:52:58.820105Z"
    },
    "scrolled": true
   },
   "outputs": [
    {
     "data": {
      "text/html": [
       "<div>\n",
       "<style scoped>\n",
       "    .dataframe tbody tr th:only-of-type {\n",
       "        vertical-align: middle;\n",
       "    }\n",
       "\n",
       "    .dataframe tbody tr th {\n",
       "        vertical-align: top;\n",
       "    }\n",
       "\n",
       "    .dataframe thead th {\n",
       "        text-align: right;\n",
       "    }\n",
       "</style>\n",
       "<table border=\"1\" class=\"dataframe\">\n",
       "  <thead>\n",
       "    <tr style=\"text-align: right;\">\n",
       "      <th></th>\n",
       "      <th>index</th>\n",
       "      <th>song</th>\n",
       "      <th>year</th>\n",
       "      <th>artist</th>\n",
       "      <th>lyrics</th>\n",
       "    </tr>\n",
       "    <tr>\n",
       "      <th>genre</th>\n",
       "      <th></th>\n",
       "      <th></th>\n",
       "      <th></th>\n",
       "      <th></th>\n",
       "      <th></th>\n",
       "    </tr>\n",
       "  </thead>\n",
       "  <tbody>\n",
       "    <tr>\n",
       "      <th>Country</th>\n",
       "      <td>14387</td>\n",
       "      <td>14387</td>\n",
       "      <td>14387</td>\n",
       "      <td>14387</td>\n",
       "      <td>14387</td>\n",
       "    </tr>\n",
       "    <tr>\n",
       "      <th>Electronic</th>\n",
       "      <td>7966</td>\n",
       "      <td>7966</td>\n",
       "      <td>7966</td>\n",
       "      <td>7966</td>\n",
       "      <td>7966</td>\n",
       "    </tr>\n",
       "    <tr>\n",
       "      <th>Hip-Hop</th>\n",
       "      <td>24850</td>\n",
       "      <td>24850</td>\n",
       "      <td>24850</td>\n",
       "      <td>24850</td>\n",
       "      <td>24850</td>\n",
       "    </tr>\n",
       "    <tr>\n",
       "      <th>Jazz</th>\n",
       "      <td>7971</td>\n",
       "      <td>7970</td>\n",
       "      <td>7971</td>\n",
       "      <td>7971</td>\n",
       "      <td>7971</td>\n",
       "    </tr>\n",
       "    <tr>\n",
       "      <th>Metal</th>\n",
       "      <td>23759</td>\n",
       "      <td>23759</td>\n",
       "      <td>23759</td>\n",
       "      <td>23759</td>\n",
       "      <td>23759</td>\n",
       "    </tr>\n",
       "  </tbody>\n",
       "</table>\n",
       "</div>"
      ],
      "text/plain": [
       "            index   song   year  artist  lyrics\n",
       "genre                                          \n",
       "Country     14387  14387  14387   14387   14387\n",
       "Electronic   7966   7966   7966    7966    7966\n",
       "Hip-Hop     24850  24850  24850   24850   24850\n",
       "Jazz         7971   7970   7971    7971    7971\n",
       "Metal       23759  23759  23759   23759   23759"
      ]
     },
     "execution_count": 39,
     "metadata": {},
     "output_type": "execute_result"
    }
   ],
   "source": [
    "df.groupby('genre').count()"
   ]
  },
  {
   "cell_type": "code",
   "execution_count": 40,
   "metadata": {
    "ExecuteTime": {
     "end_time": "2018-12-01T19:53:17.076386Z",
     "start_time": "2018-12-01T19:53:15.713414Z"
    }
   },
   "outputs": [
    {
     "name": "stdout",
     "output_type": "stream",
     "text": [
      "High five! You successfully sent some data to your account on plotly. View your plot in your browser at https://plot.ly/~rreilly3/0 or inside your plot.ly account where it is named 'basic_pie_chart'\n"
     ]
    },
    {
     "data": {
      "text/html": [
       "<iframe id=\"igraph\" scrolling=\"no\" style=\"border:none;\" seamless=\"seamless\" src=\"https://plot.ly/~rreilly3/0.embed\" height=\"525px\" width=\"100%\"></iframe>"
      ],
      "text/plain": [
       "<plotly.tools.PlotlyDisplay object>"
      ]
     },
     "execution_count": 40,
     "metadata": {},
     "output_type": "execute_result"
    }
   ],
   "source": [
    "import plotly.plotly as py\n",
    "#import plotly as py\n",
    "import plotly.graph_objs as go\n",
    "\n",
    "labels = ['Country','Electronic','Hip-Hop','Jazz','Metal']\n",
    "values = [14387,7966,24850,7971,23759]\n",
    "\n",
    "trace = go.Pie(labels=labels, values=values)\n",
    "\n",
    "py.iplot([trace], filename='basic_pie_chart')\n",
    "\n",
    "#plotly.tools.set_credentials_file(username='', api_key='')"
   ]
  },
  {
   "cell_type": "code",
   "execution_count": 37,
   "metadata": {
    "ExecuteTime": {
     "end_time": "2018-12-01T19:51:45.866556Z",
     "start_time": "2018-12-01T19:51:43.083825Z"
    }
   },
   "outputs": [
    {
     "data": {
      "text/html": [
       "<div>\n",
       "<style scoped>\n",
       "    .dataframe tbody tr th:only-of-type {\n",
       "        vertical-align: middle;\n",
       "    }\n",
       "\n",
       "    .dataframe tbody tr th {\n",
       "        vertical-align: top;\n",
       "    }\n",
       "\n",
       "    .dataframe thead th {\n",
       "        text-align: right;\n",
       "    }\n",
       "</style>\n",
       "<table border=\"1\" class=\"dataframe\">\n",
       "  <thead>\n",
       "    <tr style=\"text-align: right;\">\n",
       "      <th></th>\n",
       "      <th>index</th>\n",
       "      <th>song</th>\n",
       "      <th>year</th>\n",
       "      <th>artist</th>\n",
       "      <th>lyrics</th>\n",
       "    </tr>\n",
       "    <tr>\n",
       "      <th>genre</th>\n",
       "      <th></th>\n",
       "      <th></th>\n",
       "      <th></th>\n",
       "      <th></th>\n",
       "      <th></th>\n",
       "    </tr>\n",
       "  </thead>\n",
       "  <tbody>\n",
       "    <tr>\n",
       "      <th>Country</th>\n",
       "      <td>14387</td>\n",
       "      <td>14387</td>\n",
       "      <td>14387</td>\n",
       "      <td>14387</td>\n",
       "      <td>14387</td>\n",
       "    </tr>\n",
       "    <tr>\n",
       "      <th>Electronic</th>\n",
       "      <td>7966</td>\n",
       "      <td>7966</td>\n",
       "      <td>7966</td>\n",
       "      <td>7966</td>\n",
       "      <td>7966</td>\n",
       "    </tr>\n",
       "    <tr>\n",
       "      <th>Folk</th>\n",
       "      <td>2243</td>\n",
       "      <td>2243</td>\n",
       "      <td>2243</td>\n",
       "      <td>2243</td>\n",
       "      <td>2243</td>\n",
       "    </tr>\n",
       "    <tr>\n",
       "      <th>Hip-Hop</th>\n",
       "      <td>24850</td>\n",
       "      <td>24850</td>\n",
       "      <td>24850</td>\n",
       "      <td>24850</td>\n",
       "      <td>24850</td>\n",
       "    </tr>\n",
       "    <tr>\n",
       "      <th>Indie</th>\n",
       "      <td>3149</td>\n",
       "      <td>3149</td>\n",
       "      <td>3149</td>\n",
       "      <td>3149</td>\n",
       "      <td>3149</td>\n",
       "    </tr>\n",
       "    <tr>\n",
       "      <th>Jazz</th>\n",
       "      <td>7971</td>\n",
       "      <td>7970</td>\n",
       "      <td>7971</td>\n",
       "      <td>7971</td>\n",
       "      <td>7971</td>\n",
       "    </tr>\n",
       "    <tr>\n",
       "      <th>Metal</th>\n",
       "      <td>23759</td>\n",
       "      <td>23759</td>\n",
       "      <td>23759</td>\n",
       "      <td>23759</td>\n",
       "      <td>23759</td>\n",
       "    </tr>\n",
       "    <tr>\n",
       "      <th>Pop</th>\n",
       "      <td>40466</td>\n",
       "      <td>40466</td>\n",
       "      <td>40466</td>\n",
       "      <td>40466</td>\n",
       "      <td>40466</td>\n",
       "    </tr>\n",
       "    <tr>\n",
       "      <th>R&amp;B</th>\n",
       "      <td>3401</td>\n",
       "      <td>3401</td>\n",
       "      <td>3401</td>\n",
       "      <td>3401</td>\n",
       "      <td>3401</td>\n",
       "    </tr>\n",
       "    <tr>\n",
       "      <th>Rock</th>\n",
       "      <td>109235</td>\n",
       "      <td>109235</td>\n",
       "      <td>109235</td>\n",
       "      <td>109235</td>\n",
       "      <td>109235</td>\n",
       "    </tr>\n",
       "  </tbody>\n",
       "</table>\n",
       "</div>"
      ],
      "text/plain": [
       "             index    song    year  artist  lyrics\n",
       "genre                                             \n",
       "Country      14387   14387   14387   14387   14387\n",
       "Electronic    7966    7966    7966    7966    7966\n",
       "Folk          2243    2243    2243    2243    2243\n",
       "Hip-Hop      24850   24850   24850   24850   24850\n",
       "Indie         3149    3149    3149    3149    3149\n",
       "Jazz          7971    7970    7971    7971    7971\n",
       "Metal        23759   23759   23759   23759   23759\n",
       "Pop          40466   40466   40466   40466   40466\n",
       "R&B           3401    3401    3401    3401    3401\n",
       "Rock        109235  109235  109235  109235  109235"
      ]
     },
     "execution_count": 37,
     "metadata": {},
     "output_type": "execute_result"
    }
   ],
   "source": [
    "df = pd.read_csv('/Users/rreilly/MSDS/msds621/MSDS621_Project/lyrics.csv')\n",
    "df = df[pd.notnull(df['lyrics'])]\n",
    "df = df[df['genre']!= 'Not Available']\n",
    "df = df[df['genre']!= 'Other']\n",
    "df.groupby('genre').count()"
   ]
  },
  {
   "cell_type": "code",
   "execution_count": 41,
   "metadata": {
    "ExecuteTime": {
     "end_time": "2018-12-01T19:54:22.831193Z",
     "start_time": "2018-12-01T19:54:21.383910Z"
    }
   },
   "outputs": [
    {
     "name": "stdout",
     "output_type": "stream",
     "text": [
      "High five! You successfully sent some data to your account on plotly. View your plot in your browser at https://plot.ly/~rreilly3/0 or inside your plot.ly account where it is named 'basic_pie_chart'\n"
     ]
    },
    {
     "data": {
      "text/html": [
       "<iframe id=\"igraph\" scrolling=\"no\" style=\"border:none;\" seamless=\"seamless\" src=\"https://plot.ly/~rreilly3/0.embed\" height=\"525px\" width=\"100%\"></iframe>"
      ],
      "text/plain": [
       "<plotly.tools.PlotlyDisplay object>"
      ]
     },
     "execution_count": 41,
     "metadata": {},
     "output_type": "execute_result"
    }
   ],
   "source": [
    "import plotly.plotly as py\n",
    "import plotly \n",
    "import plotly.graph_objs as go\n",
    "\n",
    "labels = ['Country','Electronic', 'Folk', 'Hip-Hop', 'Indie', 'Jazz', 'Metal', 'Pop', 'R&B', 'Rock']\n",
    "values = [14387,7966,2243,24850,3149,7971,23759, 40466,3401,109235]\n",
    "\n",
    "trace = go.Pie(labels=labels, values=values)\n",
    "\n",
    "py.iplot([trace], filename='basic_pie_chart')\n",
    "\n",
    "#plotly.tools.set_credentials_file(username='', api_key='')"
   ]
  },
  {
   "cell_type": "code",
   "execution_count": null,
   "metadata": {},
   "outputs": [],
   "source": []
  }
 ],
 "metadata": {
  "kernelspec": {
   "display_name": "Python 3",
   "language": "python",
   "name": "python3"
  },
  "language_info": {
   "codemirror_mode": {
    "name": "ipython",
    "version": 3
   },
   "file_extension": ".py",
   "mimetype": "text/x-python",
   "name": "python",
   "nbconvert_exporter": "python",
   "pygments_lexer": "ipython3",
   "version": "3.6.6"
  }
 },
 "nbformat": 4,
 "nbformat_minor": 2
}
