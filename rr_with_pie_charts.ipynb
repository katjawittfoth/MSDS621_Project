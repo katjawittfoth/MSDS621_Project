{
 "cells": [
  {
   "cell_type": "code",
   "execution_count": 6,
   "metadata": {
    "ExecuteTime": {
     "end_time": "2018-12-01T23:12:27.521497Z",
     "start_time": "2018-12-01T23:12:27.518284Z"
    }
   },
   "outputs": [],
   "source": [
    "import sys\n",
    "\n",
    "import numpy as np\n",
    "import pandas as pd\n",
    "import matplotlib.pyplot as plt"
   ]
  },
  {
   "cell_type": "code",
   "execution_count": 7,
   "metadata": {
    "ExecuteTime": {
     "end_time": "2018-12-01T23:12:30.397085Z",
     "start_time": "2018-12-01T23:12:27.841279Z"
    }
   },
   "outputs": [],
   "source": [
    "df = pd.read_csv('/Users/rreilly/MSDS/msds621/MSDS621_Project/lyrics.csv')"
   ]
  },
  {
   "cell_type": "code",
   "execution_count": 8,
   "metadata": {
    "ExecuteTime": {
     "end_time": "2018-12-01T23:12:30.528663Z",
     "start_time": "2018-12-01T23:12:30.399520Z"
    }
   },
   "outputs": [
    {
     "data": {
      "text/html": [
       "<div>\n",
       "<style scoped>\n",
       "    .dataframe tbody tr th:only-of-type {\n",
       "        vertical-align: middle;\n",
       "    }\n",
       "\n",
       "    .dataframe tbody tr th {\n",
       "        vertical-align: top;\n",
       "    }\n",
       "\n",
       "    .dataframe thead th {\n",
       "        text-align: right;\n",
       "    }\n",
       "</style>\n",
       "<table border=\"1\" class=\"dataframe\">\n",
       "  <thead>\n",
       "    <tr style=\"text-align: right;\">\n",
       "      <th></th>\n",
       "      <th>index</th>\n",
       "      <th>song</th>\n",
       "      <th>year</th>\n",
       "      <th>artist</th>\n",
       "      <th>lyrics</th>\n",
       "    </tr>\n",
       "    <tr>\n",
       "      <th>genre</th>\n",
       "      <th></th>\n",
       "      <th></th>\n",
       "      <th></th>\n",
       "      <th></th>\n",
       "      <th></th>\n",
       "    </tr>\n",
       "  </thead>\n",
       "  <tbody>\n",
       "    <tr>\n",
       "      <th>Country</th>\n",
       "      <td>17286</td>\n",
       "      <td>17286</td>\n",
       "      <td>17286</td>\n",
       "      <td>17286</td>\n",
       "      <td>14387</td>\n",
       "    </tr>\n",
       "    <tr>\n",
       "      <th>Electronic</th>\n",
       "      <td>16205</td>\n",
       "      <td>16205</td>\n",
       "      <td>16205</td>\n",
       "      <td>16205</td>\n",
       "      <td>7966</td>\n",
       "    </tr>\n",
       "    <tr>\n",
       "      <th>Folk</th>\n",
       "      <td>3241</td>\n",
       "      <td>3241</td>\n",
       "      <td>3241</td>\n",
       "      <td>3241</td>\n",
       "      <td>2243</td>\n",
       "    </tr>\n",
       "    <tr>\n",
       "      <th>Hip-Hop</th>\n",
       "      <td>33965</td>\n",
       "      <td>33965</td>\n",
       "      <td>33965</td>\n",
       "      <td>33965</td>\n",
       "      <td>24850</td>\n",
       "    </tr>\n",
       "    <tr>\n",
       "      <th>Indie</th>\n",
       "      <td>5732</td>\n",
       "      <td>5732</td>\n",
       "      <td>5732</td>\n",
       "      <td>5732</td>\n",
       "      <td>3149</td>\n",
       "    </tr>\n",
       "    <tr>\n",
       "      <th>Jazz</th>\n",
       "      <td>17147</td>\n",
       "      <td>17145</td>\n",
       "      <td>17147</td>\n",
       "      <td>17147</td>\n",
       "      <td>7971</td>\n",
       "    </tr>\n",
       "    <tr>\n",
       "      <th>Metal</th>\n",
       "      <td>28408</td>\n",
       "      <td>28408</td>\n",
       "      <td>28408</td>\n",
       "      <td>28408</td>\n",
       "      <td>23759</td>\n",
       "    </tr>\n",
       "    <tr>\n",
       "      <th>Not Available</th>\n",
       "      <td>29814</td>\n",
       "      <td>29814</td>\n",
       "      <td>29814</td>\n",
       "      <td>29814</td>\n",
       "      <td>23941</td>\n",
       "    </tr>\n",
       "    <tr>\n",
       "      <th>Other</th>\n",
       "      <td>23683</td>\n",
       "      <td>23683</td>\n",
       "      <td>23683</td>\n",
       "      <td>23683</td>\n",
       "      <td>5189</td>\n",
       "    </tr>\n",
       "    <tr>\n",
       "      <th>Pop</th>\n",
       "      <td>49444</td>\n",
       "      <td>49444</td>\n",
       "      <td>49444</td>\n",
       "      <td>49444</td>\n",
       "      <td>40466</td>\n",
       "    </tr>\n",
       "    <tr>\n",
       "      <th>R&amp;B</th>\n",
       "      <td>5935</td>\n",
       "      <td>5935</td>\n",
       "      <td>5935</td>\n",
       "      <td>5935</td>\n",
       "      <td>3401</td>\n",
       "    </tr>\n",
       "    <tr>\n",
       "      <th>Rock</th>\n",
       "      <td>131377</td>\n",
       "      <td>131377</td>\n",
       "      <td>131377</td>\n",
       "      <td>131377</td>\n",
       "      <td>109235</td>\n",
       "    </tr>\n",
       "  </tbody>\n",
       "</table>\n",
       "</div>"
      ],
      "text/plain": [
       "                index    song    year  artist  lyrics\n",
       "genre                                                \n",
       "Country         17286   17286   17286   17286   14387\n",
       "Electronic      16205   16205   16205   16205    7966\n",
       "Folk             3241    3241    3241    3241    2243\n",
       "Hip-Hop         33965   33965   33965   33965   24850\n",
       "Indie            5732    5732    5732    5732    3149\n",
       "Jazz            17147   17145   17147   17147    7971\n",
       "Metal           28408   28408   28408   28408   23759\n",
       "Not Available   29814   29814   29814   29814   23941\n",
       "Other           23683   23683   23683   23683    5189\n",
       "Pop             49444   49444   49444   49444   40466\n",
       "R&B              5935    5935    5935    5935    3401\n",
       "Rock           131377  131377  131377  131377  109235"
      ]
     },
     "execution_count": 8,
     "metadata": {},
     "output_type": "execute_result"
    }
   ],
   "source": [
    "df.groupby('genre').count()"
   ]
  },
  {
   "cell_type": "code",
   "execution_count": 14,
   "metadata": {
    "ExecuteTime": {
     "end_time": "2018-12-01T23:13:17.873585Z",
     "start_time": "2018-12-01T23:13:17.715051Z"
    }
   },
   "outputs": [],
   "source": [
    "df2 = df[(df.genre == 'Country') | (df.genre == 'Metal') | (df.genre == 'Hip-Hop') | (df.genre == 'Jazz')\n",
    "       | (df.genre == 'Electronic') ]\n",
    "df2 = df2[pd.notnull(df2['lyrics'])]\n",
    "df2 = df2[df2['genre']!= 'Not Available']\n",
    "df2 = df2[df2['genre']!= 'Other']"
   ]
  },
  {
   "cell_type": "code",
   "execution_count": 15,
   "metadata": {
    "ExecuteTime": {
     "end_time": "2018-12-01T23:13:18.258599Z",
     "start_time": "2018-12-01T23:13:18.215971Z"
    }
   },
   "outputs": [
    {
     "data": {
      "text/html": [
       "<div>\n",
       "<style scoped>\n",
       "    .dataframe tbody tr th:only-of-type {\n",
       "        vertical-align: middle;\n",
       "    }\n",
       "\n",
       "    .dataframe tbody tr th {\n",
       "        vertical-align: top;\n",
       "    }\n",
       "\n",
       "    .dataframe thead th {\n",
       "        text-align: right;\n",
       "    }\n",
       "</style>\n",
       "<table border=\"1\" class=\"dataframe\">\n",
       "  <thead>\n",
       "    <tr style=\"text-align: right;\">\n",
       "      <th></th>\n",
       "      <th>index</th>\n",
       "      <th>song</th>\n",
       "      <th>year</th>\n",
       "      <th>artist</th>\n",
       "      <th>lyrics</th>\n",
       "    </tr>\n",
       "    <tr>\n",
       "      <th>genre</th>\n",
       "      <th></th>\n",
       "      <th></th>\n",
       "      <th></th>\n",
       "      <th></th>\n",
       "      <th></th>\n",
       "    </tr>\n",
       "  </thead>\n",
       "  <tbody>\n",
       "    <tr>\n",
       "      <th>Country</th>\n",
       "      <td>14387</td>\n",
       "      <td>14387</td>\n",
       "      <td>14387</td>\n",
       "      <td>14387</td>\n",
       "      <td>14387</td>\n",
       "    </tr>\n",
       "    <tr>\n",
       "      <th>Electronic</th>\n",
       "      <td>7966</td>\n",
       "      <td>7966</td>\n",
       "      <td>7966</td>\n",
       "      <td>7966</td>\n",
       "      <td>7966</td>\n",
       "    </tr>\n",
       "    <tr>\n",
       "      <th>Hip-Hop</th>\n",
       "      <td>24850</td>\n",
       "      <td>24850</td>\n",
       "      <td>24850</td>\n",
       "      <td>24850</td>\n",
       "      <td>24850</td>\n",
       "    </tr>\n",
       "    <tr>\n",
       "      <th>Jazz</th>\n",
       "      <td>7971</td>\n",
       "      <td>7970</td>\n",
       "      <td>7971</td>\n",
       "      <td>7971</td>\n",
       "      <td>7971</td>\n",
       "    </tr>\n",
       "    <tr>\n",
       "      <th>Metal</th>\n",
       "      <td>23759</td>\n",
       "      <td>23759</td>\n",
       "      <td>23759</td>\n",
       "      <td>23759</td>\n",
       "      <td>23759</td>\n",
       "    </tr>\n",
       "  </tbody>\n",
       "</table>\n",
       "</div>"
      ],
      "text/plain": [
       "            index   song   year  artist  lyrics\n",
       "genre                                          \n",
       "Country     14387  14387  14387   14387   14387\n",
       "Electronic   7966   7966   7966    7966    7966\n",
       "Hip-Hop     24850  24850  24850   24850   24850\n",
       "Jazz         7971   7970   7971    7971    7971\n",
       "Metal       23759  23759  23759   23759   23759"
      ]
     },
     "execution_count": 15,
     "metadata": {},
     "output_type": "execute_result"
    }
   ],
   "source": [
    "df2.groupby('genre').count()"
   ]
  },
  {
   "cell_type": "markdown",
   "metadata": {},
   "source": [
    "# pie chart"
   ]
  },
  {
   "cell_type": "code",
   "execution_count": 16,
   "metadata": {
    "ExecuteTime": {
     "end_time": "2018-12-01T23:13:30.696500Z",
     "start_time": "2018-12-01T23:13:28.694452Z"
    }
   },
   "outputs": [
    {
     "name": "stdout",
     "output_type": "stream",
     "text": [
      "High five! You successfully sent some data to your account on plotly. View your plot in your browser at https://plot.ly/~rreilly3/0 or inside your plot.ly account where it is named 'basic_pie_chart'\n"
     ]
    },
    {
     "data": {
      "text/html": [
       "<iframe id=\"igraph\" scrolling=\"no\" style=\"border:none;\" seamless=\"seamless\" src=\"https://plot.ly/~rreilly3/0.embed\" height=\"525px\" width=\"100%\"></iframe>"
      ],
      "text/plain": [
       "<plotly.tools.PlotlyDisplay object>"
      ]
     },
     "execution_count": 16,
     "metadata": {},
     "output_type": "execute_result"
    }
   ],
   "source": [
    "import plotly.plotly as py\n",
    "#import plotly as py\n",
    "import plotly.graph_objs as go\n",
    "\n",
    "labels = ['Country','Electronic','Hip-Hop','Jazz','Metal']\n",
    "values = [14387,7966,24850,7971,23759]\n",
    "\n",
    "trace = go.Pie(labels=labels, values=values)\n",
    "\n",
    "py.iplot([trace], filename='basic_pie_chart')\n",
    "\n",
    "#plotly.tools.set_credentials_file(username='', api_key='')"
   ]
  },
  {
   "cell_type": "code",
   "execution_count": 17,
   "metadata": {
    "ExecuteTime": {
     "end_time": "2018-12-01T23:13:42.839872Z",
     "start_time": "2018-12-01T23:13:41.201022Z"
    }
   },
   "outputs": [
    {
     "name": "stdout",
     "output_type": "stream",
     "text": [
      "High five! You successfully sent some data to your account on plotly. View your plot in your browser at https://plot.ly/~rreilly3/0 or inside your plot.ly account where it is named 'basic_pie_chart'\n"
     ]
    },
    {
     "data": {
      "text/html": [
       "<iframe id=\"igraph\" scrolling=\"no\" style=\"border:none;\" seamless=\"seamless\" src=\"https://plot.ly/~rreilly3/0.embed\" height=\"525px\" width=\"100%\"></iframe>"
      ],
      "text/plain": [
       "<plotly.tools.PlotlyDisplay object>"
      ]
     },
     "execution_count": 17,
     "metadata": {},
     "output_type": "execute_result"
    }
   ],
   "source": [
    "import plotly.plotly as py\n",
    "import plotly \n",
    "import plotly.graph_objs as go\n",
    "\n",
    "labels = ['Country','Electronic', 'Folk', 'Hip-Hop', 'Indie', 'Jazz', 'Metal', 'Pop', 'R&B', 'Rock']\n",
    "values = [14387,7966,2243,24850,3149,7971,23759, 40466,3401,109235]\n",
    "\n",
    "trace = go.Pie(labels=labels, values=values)\n",
    "\n",
    "py.iplot([trace], filename='basic_pie_chart')\n",
    "\n",
    "#plotly.tools.set_credentials_file(username='', api_key='')"
   ]
  },
  {
   "cell_type": "code",
   "execution_count": null,
   "metadata": {},
   "outputs": [],
   "source": []
  }
 ],
 "metadata": {
  "kernelspec": {
   "display_name": "Python 3",
   "language": "python",
   "name": "python3"
  },
  "language_info": {
   "codemirror_mode": {
    "name": "ipython",
    "version": 3
   },
   "file_extension": ".py",
   "mimetype": "text/x-python",
   "name": "python",
   "nbconvert_exporter": "python",
   "pygments_lexer": "ipython3",
   "version": "3.6.6"
  }
 },
 "nbformat": 4,
 "nbformat_minor": 2
}
